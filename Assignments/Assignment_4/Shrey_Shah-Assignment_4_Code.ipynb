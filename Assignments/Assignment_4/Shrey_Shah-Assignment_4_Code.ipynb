{
 "cells": [
  {
   "cell_type": "markdown",
   "id": "d986be96",
   "metadata": {},
   "source": [
    "## Importing libraries"
   ]
  },
  {
   "cell_type": "code",
   "execution_count": 2,
   "id": "4001c691",
   "metadata": {},
   "outputs": [],
   "source": [
    "import numpy as np\n",
    "import pandas as pd\n",
    "import nltk\n",
    "import time\n",
    "import pickle"
   ]
  },
  {
   "cell_type": "code",
   "execution_count": 3,
   "id": "0dfac59c",
   "metadata": {},
   "outputs": [],
   "source": [
    "# Import gensim and libraries\n",
    "\n",
    "import re\n",
    "import gensim\n",
    "from gensim.models import Word2Vec, KeyedVectors, FastText\n",
    "from gensim.scripts.glove2word2vec import glove2word2vec\n",
    "from gensim.test.utils import datapath"
   ]
  },
  {
   "cell_type": "code",
   "execution_count": null,
   "id": "789d337a",
   "metadata": {},
   "outputs": [],
   "source": [
    "import nltk, re, spacy\n",
    "nltk.download('wordnet')\n",
    "nltk.download('omw-1.4')\n",
    "from nltk.corpus import wordnet as wn\n",
    "nlp = spacy.load('en_core_web_sm', disable=['ner,parser'])\n",
    "nlp.remove_pipe('ner')\n",
    "nlp.remove_pipe('parser')"
   ]
  },
  {
   "cell_type": "code",
   "execution_count": null,
   "id": "20793566",
   "metadata": {},
   "outputs": [],
   "source": [
    "pd.set_option('display.max_colwidth', None)"
   ]
  },
  {
   "cell_type": "markdown",
   "id": "120f0f0c",
   "metadata": {},
   "source": [
    "# Word Embedding Tasks"
   ]
  },
  {
   "cell_type": "markdown",
   "id": "721b976c",
   "metadata": {},
   "source": [
    "## Task 1: Create your own word embeddings"
   ]
  },
  {
   "cell_type": "code",
   "execution_count": null,
   "id": "4fb61563",
   "metadata": {},
   "outputs": [],
   "source": [
    "fairy_data = pd.read_csv(\"fairy_tale.csv\", low_memory=False)\n",
    "fairy_data.head(1)"
   ]
  },
  {
   "cell_type": "code",
   "execution_count": null,
   "id": "463793f6",
   "metadata": {},
   "outputs": [],
   "source": [
    "fairy_data.columns"
   ]
  },
  {
   "cell_type": "markdown",
   "id": "1e5e174c",
   "metadata": {},
   "source": [
    "### Number of instances in the training dataset with blank reviews"
   ]
  },
  {
   "cell_type": "code",
   "execution_count": null,
   "id": "1d58fefc",
   "metadata": {},
   "outputs": [],
   "source": [
    "len(fairy_data)"
   ]
  },
  {
   "cell_type": "code",
   "execution_count": null,
   "id": "36032a0b",
   "metadata": {},
   "outputs": [],
   "source": [
    "fairy_data = chatgpt_train[~chatgpt_train[\"sentences\"].isnull()]"
   ]
  },
  {
   "cell_type": "markdown",
   "id": "5c62f46a",
   "metadata": {},
   "source": [
    "### Number of instances in the training dataset without blank reviews"
   ]
  },
  {
   "cell_type": "code",
   "execution_count": null,
   "id": "05e90c17",
   "metadata": {},
   "outputs": [],
   "source": [
    "len(fairy_data)"
   ]
  },
  {
   "cell_type": "code",
   "execution_count": null,
   "id": "e3777253",
   "metadata": {},
   "outputs": [],
   "source": [
    "fairy_data['sentences']"
   ]
  },
  {
   "cell_type": "code",
   "execution_count": null,
   "id": "8da810e2",
   "metadata": {},
   "outputs": [],
   "source": [
    "sentences=[]\n",
    "\n",
    "# file from which to generate word embeddings\n",
    "filename=\"event_female.csv\"\n",
    "with open(filename, 'rb') as file:\n",
    "    for line in file:\n",
    "        words=line.rstrip().lower().decode('utf-8')\n",
    "        # this file is already tokenized, so we can split on whitespace\n",
    "        # but first let's replace any sequence of whitespace (space, tab, newline, etc.) with single space\n",
    "        words=re.sub(\"\\s+\", \" \", words)\n",
    "        sentences.append(words.split(\" \"))\n",
    "\n",
    "model_wiki = Word2Vec(\n",
    "        sentences,\n",
    "        vector_size=100,\n",
    "        window=5,\n",
    "        min_count=2,\n",
    "        workers=10)\n",
    "\n",
    "my_trained_vectors = model_wiki.wv\n",
    "\n",
    "# save vectors to file if you want to use them later\n",
    "#my_trained_vectors.save_word2vec_format('Datasets/wordembeddings/embeddings.txt', binary=False)"
   ]
  },
  {
   "cell_type": "code",
   "execution_count": null,
   "id": "c6e0a459",
   "metadata": {},
   "outputs": [],
   "source": []
  },
  {
   "cell_type": "code",
   "execution_count": null,
   "id": "56c3420d",
   "metadata": {},
   "outputs": [],
   "source": []
  },
  {
   "cell_type": "markdown",
   "id": "5e089a83",
   "metadata": {},
   "source": [
    "### Skip gram word embeddings"
   ]
  },
  {
   "cell_type": "code",
   "execution_count": null,
   "id": "a9e63169",
   "metadata": {},
   "outputs": [],
   "source": [
    "sentences = [sentence.split() for sentence in fairy_data['sentences']]"
   ]
  },
  {
   "cell_type": "code",
   "execution_count": null,
   "id": "1f1f2d8f",
   "metadata": {},
   "outputs": [],
   "source": [
    "skipgram_model = Word2Vec(sentences, sg=1, vector_size=100, window=5, min_count=2, workers=10)"
   ]
  },
  {
   "cell_type": "code",
   "execution_count": null,
   "id": "c1da719c",
   "metadata": {},
   "outputs": [],
   "source": [
    "trained_wv_skipgrams = skipgram_model.wv"
   ]
  },
  {
   "cell_type": "code",
   "execution_count": null,
   "id": "d6eb2aa1",
   "metadata": {},
   "outputs": [],
   "source": []
  },
  {
   "cell_type": "markdown",
   "id": "12a149da",
   "metadata": {},
   "source": [
    "### CBOW word embeddings"
   ]
  },
  {
   "cell_type": "code",
   "execution_count": null,
   "id": "18557e47",
   "metadata": {},
   "outputs": [],
   "source": [
    "cbow_model = Word2Vec(sentences, sg=0, vector_size=100, window=5, min_count=2, workers=10)"
   ]
  },
  {
   "cell_type": "code",
   "execution_count": null,
   "id": "f1484587",
   "metadata": {},
   "outputs": [],
   "source": [
    "trained_wv_cbow = cbow_model.wv"
   ]
  },
  {
   "cell_type": "code",
   "execution_count": null,
   "id": "b4031bee",
   "metadata": {},
   "outputs": [],
   "source": []
  },
  {
   "cell_type": "markdown",
   "id": "71b53350",
   "metadata": {},
   "source": [
    "### Fast Text word embeddings"
   ]
  },
  {
   "cell_type": "code",
   "execution_count": null,
   "id": "f660e742",
   "metadata": {},
   "outputs": [],
   "source": [
    "fasttext_model = FastText(sentences, vector_size=100, window=5, min_count=2, workers=10)"
   ]
  },
  {
   "cell_type": "code",
   "execution_count": null,
   "id": "936842bd",
   "metadata": {},
   "outputs": [],
   "source": [
    "trained_wv_fasttext = fasttext_model.wv"
   ]
  },
  {
   "cell_type": "code",
   "execution_count": null,
   "id": "44c8f4b3",
   "metadata": {},
   "outputs": [],
   "source": []
  },
  {
   "cell_type": "code",
   "execution_count": null,
   "id": "aff3c53b",
   "metadata": {},
   "outputs": [],
   "source": []
  },
  {
   "cell_type": "code",
   "execution_count": null,
   "id": "7c73388c",
   "metadata": {},
   "outputs": [],
   "source": []
  },
  {
   "cell_type": "code",
   "execution_count": null,
   "id": "1392583f",
   "metadata": {},
   "outputs": [],
   "source": [
    "def find_similar_words(model, word, topn=20):\n",
    "    try:\n",
    "        similar_words = model.wv.most_similar(word, topn=topn)\n",
    "        return similar_words\n",
    "    \n",
    "    except KeyError:\n",
    "        return []"
   ]
  },
  {
   "cell_type": "code",
   "execution_count": null,
   "id": "6bb4f6df",
   "metadata": {},
   "outputs": [],
   "source": []
  },
  {
   "cell_type": "code",
   "execution_count": null,
   "id": "18154dac",
   "metadata": {},
   "outputs": [],
   "source": [
    "word_list = [\"man\", \"woman\", \"king\", \"queen\"]"
   ]
  },
  {
   "cell_type": "markdown",
   "id": "fb919198",
   "metadata": {},
   "source": [
    "### Top 20 similar words using Skip Gram word embeddings"
   ]
  },
  {
   "cell_type": "code",
   "execution_count": null,
   "id": "b65a72c6",
   "metadata": {},
   "outputs": [],
   "source": [
    "for word in word_list:\n",
    "    print(f\"Similar words for '{word}' using Skip-gram: \\n\")\n",
    "    print(find_similar_words(skipgram_model, word))\n",
    "    print(\"----------------------------------------------\\n\")"
   ]
  },
  {
   "cell_type": "markdown",
   "id": "514b0e4d",
   "metadata": {},
   "source": [
    "### Top 20 similar words using CBOW word embeddings"
   ]
  },
  {
   "cell_type": "code",
   "execution_count": null,
   "id": "fed6aa2c",
   "metadata": {},
   "outputs": [],
   "source": [
    "for word in word_list:\n",
    "    print(f\"Similar words for '{word}' using CBOW: \\n\")\n",
    "    print(find_similar_words(cbow_model, word))\n",
    "    print(\"----------------------------------------------\\n\")"
   ]
  },
  {
   "cell_type": "markdown",
   "id": "3dc3132e",
   "metadata": {},
   "source": [
    "### Top 20 similar words using FastText word embeddings"
   ]
  },
  {
   "cell_type": "code",
   "execution_count": null,
   "id": "871115b6",
   "metadata": {},
   "outputs": [],
   "source": [
    "for word in word_list:\n",
    "    print(f\"Similar words for '{word}' using Fast Text: \\n\")\n",
    "    print(find_similar_words(fasttext_model, word))\n",
    "    print(\"----------------------------------------------\\n\")"
   ]
  },
  {
   "cell_type": "code",
   "execution_count": null,
   "id": "53cba14c",
   "metadata": {},
   "outputs": [],
   "source": []
  },
  {
   "cell_type": "code",
   "execution_count": null,
   "id": "38ef4ef4",
   "metadata": {},
   "outputs": [],
   "source": []
  },
  {
   "cell_type": "markdown",
   "id": "7702c52b",
   "metadata": {},
   "source": [
    "## Task 2: Use pretrained word embeddings"
   ]
  },
  {
   "cell_type": "code",
   "execution_count": null,
   "id": "1ddba685",
   "metadata": {},
   "outputs": [],
   "source": [
    "# First we have to convert the Glove format into w2v format; this creates a new file\n",
    "\n",
    "glove_file = \"Datasets/wordembeddings/glove.6B.100d.100K.txt\"\n",
    "glove_in_w2v_format = \"Datasets/wordembeddings/glove.6B.100d.100K.w2v.txt\"\n",
    "_ = glove2word2vec(glove_file, glove_in_w2v_format)"
   ]
  },
  {
   "cell_type": "code",
   "execution_count": null,
   "id": "11c90e10",
   "metadata": {},
   "outputs": [],
   "source": []
  },
  {
   "cell_type": "code",
   "execution_count": null,
   "id": "9046243b",
   "metadata": {},
   "outputs": [],
   "source": []
  },
  {
   "cell_type": "code",
   "execution_count": null,
   "id": "21f15cf3",
   "metadata": {},
   "outputs": [],
   "source": [
    "glove_model = KeyedVectors.load_word2vec_format(\"Datasets/wordembeddings/glove.6B.100d.100K.w2v.txt\", binary=False)"
   ]
  },
  {
   "cell_type": "code",
   "execution_count": null,
   "id": "4d61ce16",
   "metadata": {},
   "outputs": [],
   "source": [
    "def find_similar_words_glove(model, word, topn=20):\n",
    "    try:\n",
    "        similar_words = model.most_similar(word, topn=topn)\n",
    "        return similar_words\n",
    "    \n",
    "    except KeyError:\n",
    "        return []"
   ]
  },
  {
   "cell_type": "code",
   "execution_count": null,
   "id": "4c041ed1",
   "metadata": {},
   "outputs": [],
   "source": [
    "# Find similar words for \"man,\" \"woman,\" \"king,\" and \"queen\" in each model\n",
    "word_list = [\"man\", \"woman\", \"king\", \"queen\"]\n",
    "\n",
    "for word in word_list:\n",
    "    print(f\"Similar words for '{word}' using GloVe: \\n\")\n",
    "    print(find_similar_words_glove(glove_model, word))\n",
    "    print(\"\\n\")\n",
    "    print(\"----------------------------------------------\\n\")"
   ]
  },
  {
   "cell_type": "code",
   "execution_count": null,
   "id": "8728ac08",
   "metadata": {},
   "outputs": [],
   "source": []
  },
  {
   "cell_type": "code",
   "execution_count": null,
   "id": "d87b6bdc",
   "metadata": {},
   "outputs": [],
   "source": []
  },
  {
   "cell_type": "markdown",
   "id": "b0727fd7",
   "metadata": {},
   "source": [
    "# Topic Modeling Tasks"
   ]
  },
  {
   "cell_type": "markdown",
   "id": "4a0b649c",
   "metadata": {},
   "source": [
    "## Task 1: Data preprocessing"
   ]
  },
  {
   "cell_type": "code",
   "execution_count": null,
   "id": "d7fc41ea",
   "metadata": {},
   "outputs": [],
   "source": [
    "fairy_data = pd.read_csv(\"fairy_tale.csv\", low_memory=False)\n",
    "fairy_data.head(1)"
   ]
  },
  {
   "cell_type": "code",
   "execution_count": null,
   "id": "f138b007",
   "metadata": {},
   "outputs": [],
   "source": [
    "fairy_data = chatgpt_train[~chatgpt_train[\"sentences\"].isnull()]"
   ]
  },
  {
   "cell_type": "code",
   "execution_count": null,
   "id": "e0fb3512",
   "metadata": {},
   "outputs": [],
   "source": [
    "len(fairy_data)"
   ]
  },
  {
   "cell_type": "code",
   "execution_count": null,
   "id": "f2974ce1",
   "metadata": {
    "scrolled": false
   },
   "outputs": [],
   "source": [
    "male_chars = fairy_data[fairy_data['gender'] == 'male']\n",
    "male_chars.head(1)"
   ]
  },
  {
   "cell_type": "markdown",
   "id": "86a97ce9",
   "metadata": {},
   "source": [
    "### Number of male characters in the dataset"
   ]
  },
  {
   "cell_type": "code",
   "execution_count": null,
   "id": "8deb6354",
   "metadata": {},
   "outputs": [],
   "source": [
    "len(male_chars)"
   ]
  },
  {
   "cell_type": "code",
   "execution_count": null,
   "id": "4a197b52",
   "metadata": {},
   "outputs": [],
   "source": [
    "female_chars = fairy_data[fairy_data['gender'] == 'female']\n",
    "female_chars.head(1)"
   ]
  },
  {
   "cell_type": "markdown",
   "id": "c9757ba5",
   "metadata": {},
   "source": [
    "### Number of female characters in the dataset"
   ]
  },
  {
   "cell_type": "code",
   "execution_count": null,
   "id": "5da087b5",
   "metadata": {},
   "outputs": [],
   "source": [
    "len(female_chars)"
   ]
  },
  {
   "cell_type": "code",
   "execution_count": null,
   "id": "db57df2c",
   "metadata": {},
   "outputs": [],
   "source": []
  },
  {
   "cell_type": "code",
   "execution_count": null,
   "id": "f215ed0d",
   "metadata": {},
   "outputs": [],
   "source": []
  },
  {
   "cell_type": "markdown",
   "id": "de515f12",
   "metadata": {},
   "source": [
    "## Task 2: Topic modeling for male characters."
   ]
  },
  {
   "cell_type": "code",
   "execution_count": null,
   "id": "e9790e8b",
   "metadata": {},
   "outputs": [],
   "source": []
  }
 ],
 "metadata": {
  "kernelspec": {
   "display_name": "Python 3 (ipykernel)",
   "language": "python",
   "name": "python3"
  },
  "language_info": {
   "codemirror_mode": {
    "name": "ipython",
    "version": 3
   },
   "file_extension": ".py",
   "mimetype": "text/x-python",
   "name": "python",
   "nbconvert_exporter": "python",
   "pygments_lexer": "ipython3",
   "version": "3.9.13"
  }
 },
 "nbformat": 4,
 "nbformat_minor": 5
}
