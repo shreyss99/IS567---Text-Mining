{
 "cells": [
  {
   "cell_type": "code",
   "execution_count": 1,
   "id": "e0ee7d3f",
   "metadata": {},
   "outputs": [],
   "source": [
    "import os\n",
    "import numpy as np\n",
    "import pandas as pd"
   ]
  },
  {
   "cell_type": "code",
   "execution_count": 2,
   "id": "426b9d60",
   "metadata": {},
   "outputs": [
    {
     "name": "stderr",
     "output_type": "stream",
     "text": [
      "[nltk_data] Downloading package stopwords to\n",
      "[nltk_data]     /Users/shrey_shah/nltk_data...\n",
      "[nltk_data]   Package stopwords is already up-to-date!\n",
      "[nltk_data] Downloading package punkt to\n",
      "[nltk_data]     /Users/shrey_shah/nltk_data...\n",
      "[nltk_data]   Package punkt is already up-to-date!\n"
     ]
    },
    {
     "data": {
      "text/plain": [
       "True"
      ]
     },
     "execution_count": 2,
     "metadata": {},
     "output_type": "execute_result"
    }
   ],
   "source": [
    "import pandas as pd\n",
    "from sklearn.pipeline import Pipeline\n",
    "from nltk.stem import PorterStemmer\n",
    "from nltk.corpus import stopwords\n",
    "import re\n",
    "import nltk\n",
    "nltk.download('stopwords')\n",
    "nltk.download('punkt')"
   ]
  },
  {
   "cell_type": "code",
   "execution_count": 3,
   "id": "d28518b1",
   "metadata": {},
   "outputs": [],
   "source": [
    "from sklearn.feature_extraction.text import CountVectorizer"
   ]
  },
  {
   "cell_type": "code",
   "execution_count": 37,
   "id": "1ef5da8d",
   "metadata": {},
   "outputs": [],
   "source": [
    "from sklearn.metrics import accuracy_score, precision_score, recall_score, f1_score, classification_report\n",
    "from sklearn.linear_model import LogisticRegression\n",
    "from sklearn import preprocessing"
   ]
  },
  {
   "cell_type": "code",
   "execution_count": null,
   "id": "c0264db7",
   "metadata": {},
   "outputs": [],
   "source": []
  },
  {
   "cell_type": "code",
   "execution_count": null,
   "id": "6775279f",
   "metadata": {},
   "outputs": [],
   "source": []
  },
  {
   "cell_type": "code",
   "execution_count": null,
   "id": "692d423a",
   "metadata": {},
   "outputs": [],
   "source": []
  },
  {
   "cell_type": "code",
   "execution_count": 4,
   "id": "665766b9",
   "metadata": {},
   "outputs": [
    {
     "data": {
      "text/plain": [
       "'/Users/shrey_shah/Desktop/Text_Mining'"
      ]
     },
     "execution_count": 4,
     "metadata": {},
     "output_type": "execute_result"
    }
   ],
   "source": [
    "os.getcwd()"
   ]
  },
  {
   "cell_type": "code",
   "execution_count": 5,
   "id": "5b2d59dc",
   "metadata": {},
   "outputs": [],
   "source": [
    "initial_df = pd.read_csv(os.getcwd()+\"/Dataset/train.csv\")"
   ]
  },
  {
   "cell_type": "code",
   "execution_count": 6,
   "id": "6a404dd1",
   "metadata": {},
   "outputs": [
    {
     "data": {
      "text/html": [
       "<div>\n",
       "<style scoped>\n",
       "    .dataframe tbody tr th:only-of-type {\n",
       "        vertical-align: middle;\n",
       "    }\n",
       "\n",
       "    .dataframe tbody tr th {\n",
       "        vertical-align: top;\n",
       "    }\n",
       "\n",
       "    .dataframe thead th {\n",
       "        text-align: right;\n",
       "    }\n",
       "</style>\n",
       "<table border=\"1\" class=\"dataframe\">\n",
       "  <thead>\n",
       "    <tr style=\"text-align: right;\">\n",
       "      <th></th>\n",
       "      <th>Unnamed: 0</th>\n",
       "      <th>review_id</th>\n",
       "      <th>product_id</th>\n",
       "      <th>reviewer_id</th>\n",
       "      <th>stars</th>\n",
       "      <th>review_body</th>\n",
       "      <th>review_title</th>\n",
       "      <th>language</th>\n",
       "      <th>product_category</th>\n",
       "    </tr>\n",
       "  </thead>\n",
       "  <tbody>\n",
       "    <tr>\n",
       "      <th>0</th>\n",
       "      <td>0</td>\n",
       "      <td>de_0203609</td>\n",
       "      <td>product_de_0865382</td>\n",
       "      <td>reviewer_de_0267719</td>\n",
       "      <td>1</td>\n",
       "      <td>Armband ist leider nach 1 Jahr kaputt gegangen</td>\n",
       "      <td>Leider nach 1 Jahr kaputt</td>\n",
       "      <td>de</td>\n",
       "      <td>sports</td>\n",
       "    </tr>\n",
       "    <tr>\n",
       "      <th>1</th>\n",
       "      <td>1</td>\n",
       "      <td>de_0559494</td>\n",
       "      <td>product_de_0678997</td>\n",
       "      <td>reviewer_de_0783625</td>\n",
       "      <td>1</td>\n",
       "      <td>In der Lieferung war nur Ein Akku!</td>\n",
       "      <td>EINS statt ZWEI Akkus!!!</td>\n",
       "      <td>de</td>\n",
       "      <td>home_improvement</td>\n",
       "    </tr>\n",
       "    <tr>\n",
       "      <th>2</th>\n",
       "      <td>2</td>\n",
       "      <td>de_0238777</td>\n",
       "      <td>product_de_0372235</td>\n",
       "      <td>reviewer_de_0911426</td>\n",
       "      <td>1</td>\n",
       "      <td>Ein Stern, weil gar keine geht nicht. Es hande...</td>\n",
       "      <td>Achtung Abzocke</td>\n",
       "      <td>de</td>\n",
       "      <td>drugstore</td>\n",
       "    </tr>\n",
       "    <tr>\n",
       "      <th>3</th>\n",
       "      <td>3</td>\n",
       "      <td>de_0477884</td>\n",
       "      <td>product_de_0719501</td>\n",
       "      <td>reviewer_de_0836478</td>\n",
       "      <td>1</td>\n",
       "      <td>Dachte, das wären einfach etwas festere Binden...</td>\n",
       "      <td>Zu viel des Guten</td>\n",
       "      <td>de</td>\n",
       "      <td>drugstore</td>\n",
       "    </tr>\n",
       "    <tr>\n",
       "      <th>4</th>\n",
       "      <td>4</td>\n",
       "      <td>de_0270868</td>\n",
       "      <td>product_de_0022613</td>\n",
       "      <td>reviewer_de_0736276</td>\n",
       "      <td>1</td>\n",
       "      <td>Meine Kinder haben kaum damit gespielt und nac...</td>\n",
       "      <td>Qualität sehr schlecht</td>\n",
       "      <td>de</td>\n",
       "      <td>toy</td>\n",
       "    </tr>\n",
       "  </tbody>\n",
       "</table>\n",
       "</div>"
      ],
      "text/plain": [
       "   Unnamed: 0   review_id          product_id          reviewer_id  stars  \\\n",
       "0           0  de_0203609  product_de_0865382  reviewer_de_0267719      1   \n",
       "1           1  de_0559494  product_de_0678997  reviewer_de_0783625      1   \n",
       "2           2  de_0238777  product_de_0372235  reviewer_de_0911426      1   \n",
       "3           3  de_0477884  product_de_0719501  reviewer_de_0836478      1   \n",
       "4           4  de_0270868  product_de_0022613  reviewer_de_0736276      1   \n",
       "\n",
       "                                         review_body  \\\n",
       "0     Armband ist leider nach 1 Jahr kaputt gegangen   \n",
       "1                 In der Lieferung war nur Ein Akku!   \n",
       "2  Ein Stern, weil gar keine geht nicht. Es hande...   \n",
       "3  Dachte, das wären einfach etwas festere Binden...   \n",
       "4  Meine Kinder haben kaum damit gespielt und nac...   \n",
       "\n",
       "                review_title language  product_category  \n",
       "0  Leider nach 1 Jahr kaputt       de            sports  \n",
       "1   EINS statt ZWEI Akkus!!!       de  home_improvement  \n",
       "2            Achtung Abzocke       de         drugstore  \n",
       "3          Zu viel des Guten       de         drugstore  \n",
       "4     Qualität sehr schlecht       de               toy  "
      ]
     },
     "execution_count": 6,
     "metadata": {},
     "output_type": "execute_result"
    }
   ],
   "source": [
    "initial_df.head(5)"
   ]
  },
  {
   "cell_type": "code",
   "execution_count": 7,
   "id": "75121da5",
   "metadata": {},
   "outputs": [
    {
     "name": "stderr",
     "output_type": "stream",
     "text": [
      "/var/folders/j2/sk_tpq311dn0rsb2ksfpkzb00000gn/T/ipykernel_15424/2487562124.py:2: SettingWithCopyWarning: \n",
      "A value is trying to be set on a copy of a slice from a DataFrame\n",
      "\n",
      "See the caveats in the documentation: https://pandas.pydata.org/pandas-docs/stable/user_guide/indexing.html#returning-a-view-versus-a-copy\n",
      "  english_lang_train_reviews.drop(columns=['Unnamed: 0', 'reviewer_id'], inplace=True)\n"
     ]
    },
    {
     "data": {
      "text/html": [
       "<div>\n",
       "<style scoped>\n",
       "    .dataframe tbody tr th:only-of-type {\n",
       "        vertical-align: middle;\n",
       "    }\n",
       "\n",
       "    .dataframe tbody tr th {\n",
       "        vertical-align: top;\n",
       "    }\n",
       "\n",
       "    .dataframe thead th {\n",
       "        text-align: right;\n",
       "    }\n",
       "</style>\n",
       "<table border=\"1\" class=\"dataframe\">\n",
       "  <thead>\n",
       "    <tr style=\"text-align: right;\">\n",
       "      <th></th>\n",
       "      <th>review_id</th>\n",
       "      <th>product_id</th>\n",
       "      <th>stars</th>\n",
       "      <th>review_body</th>\n",
       "      <th>review_title</th>\n",
       "      <th>language</th>\n",
       "      <th>product_category</th>\n",
       "    </tr>\n",
       "  </thead>\n",
       "  <tbody>\n",
       "    <tr>\n",
       "      <th>200000</th>\n",
       "      <td>en_0964290</td>\n",
       "      <td>product_en_0740675</td>\n",
       "      <td>1</td>\n",
       "      <td>Arrived broken. Manufacturer defect. Two of th...</td>\n",
       "      <td>I'll spend twice the amount of time boxing up ...</td>\n",
       "      <td>en</td>\n",
       "      <td>furniture</td>\n",
       "    </tr>\n",
       "    <tr>\n",
       "      <th>200001</th>\n",
       "      <td>en_0690095</td>\n",
       "      <td>product_en_0440378</td>\n",
       "      <td>1</td>\n",
       "      <td>the cabinet dot were all detached from backing...</td>\n",
       "      <td>Not use able</td>\n",
       "      <td>en</td>\n",
       "      <td>home_improvement</td>\n",
       "    </tr>\n",
       "    <tr>\n",
       "      <th>200002</th>\n",
       "      <td>en_0311558</td>\n",
       "      <td>product_en_0399702</td>\n",
       "      <td>1</td>\n",
       "      <td>I received my first order of this product and ...</td>\n",
       "      <td>The product is junk.</td>\n",
       "      <td>en</td>\n",
       "      <td>home</td>\n",
       "    </tr>\n",
       "    <tr>\n",
       "      <th>200003</th>\n",
       "      <td>en_0044972</td>\n",
       "      <td>product_en_0444063</td>\n",
       "      <td>1</td>\n",
       "      <td>This product is a piece of shit. Do not buy. D...</td>\n",
       "      <td>Fucking waste of money</td>\n",
       "      <td>en</td>\n",
       "      <td>wireless</td>\n",
       "    </tr>\n",
       "    <tr>\n",
       "      <th>200004</th>\n",
       "      <td>en_0784379</td>\n",
       "      <td>product_en_0139353</td>\n",
       "      <td>1</td>\n",
       "      <td>went through 3 in one day doesn't fit correct ...</td>\n",
       "      <td>bubble</td>\n",
       "      <td>en</td>\n",
       "      <td>pc</td>\n",
       "    </tr>\n",
       "  </tbody>\n",
       "</table>\n",
       "</div>"
      ],
      "text/plain": [
       "         review_id          product_id  stars  \\\n",
       "200000  en_0964290  product_en_0740675      1   \n",
       "200001  en_0690095  product_en_0440378      1   \n",
       "200002  en_0311558  product_en_0399702      1   \n",
       "200003  en_0044972  product_en_0444063      1   \n",
       "200004  en_0784379  product_en_0139353      1   \n",
       "\n",
       "                                              review_body  \\\n",
       "200000  Arrived broken. Manufacturer defect. Two of th...   \n",
       "200001  the cabinet dot were all detached from backing...   \n",
       "200002  I received my first order of this product and ...   \n",
       "200003  This product is a piece of shit. Do not buy. D...   \n",
       "200004  went through 3 in one day doesn't fit correct ...   \n",
       "\n",
       "                                             review_title language  \\\n",
       "200000  I'll spend twice the amount of time boxing up ...       en   \n",
       "200001                                       Not use able       en   \n",
       "200002                               The product is junk.       en   \n",
       "200003                             Fucking waste of money       en   \n",
       "200004                                             bubble       en   \n",
       "\n",
       "        product_category  \n",
       "200000         furniture  \n",
       "200001  home_improvement  \n",
       "200002              home  \n",
       "200003          wireless  \n",
       "200004                pc  "
      ]
     },
     "execution_count": 7,
     "metadata": {},
     "output_type": "execute_result"
    }
   ],
   "source": [
    "english_lang_train_reviews = initial_df[initial_df['language'] == 'en']\n",
    "english_lang_train_reviews.drop(columns=['Unnamed: 0', 'reviewer_id'], inplace=True)\n",
    "english_lang_train_reviews.head()"
   ]
  },
  {
   "cell_type": "code",
   "execution_count": 8,
   "id": "59dd5b31",
   "metadata": {},
   "outputs": [
    {
     "data": {
      "text/plain": [
       "\"This product is a piece of shit. Do not buy. Doesn't work, and then I try to call for customer support, it won't take my number. Fucking rip off!\""
      ]
     },
     "execution_count": 8,
     "metadata": {},
     "output_type": "execute_result"
    }
   ],
   "source": [
    "english_lang_train_reviews.loc[200003, ('review_body')]"
   ]
  },
  {
   "cell_type": "code",
   "execution_count": null,
   "id": "7b826c4b",
   "metadata": {},
   "outputs": [],
   "source": []
  },
  {
   "cell_type": "code",
   "execution_count": null,
   "id": "0c75e103",
   "metadata": {},
   "outputs": [],
   "source": []
  },
  {
   "cell_type": "code",
   "execution_count": 9,
   "id": "2bc30863",
   "metadata": {},
   "outputs": [
    {
     "data": {
      "text/plain": [
       "(200000, 7)"
      ]
     },
     "execution_count": 9,
     "metadata": {},
     "output_type": "execute_result"
    }
   ],
   "source": [
    "english_lang_train_reviews.shape"
   ]
  },
  {
   "cell_type": "code",
   "execution_count": 10,
   "id": "3d54c6e8",
   "metadata": {},
   "outputs": [
    {
     "name": "stderr",
     "output_type": "stream",
     "text": [
      "/var/folders/j2/sk_tpq311dn0rsb2ksfpkzb00000gn/T/ipykernel_15424/1976325618.py:2: SettingWithCopyWarning: \n",
      "A value is trying to be set on a copy of a slice from a DataFrame\n",
      "\n",
      "See the caveats in the documentation: https://pandas.pydata.org/pandas-docs/stable/user_guide/indexing.html#returning-a-view-versus-a-copy\n",
      "  german_lang_train_reviews.drop(columns=['Unnamed: 0', 'reviewer_id'], inplace=True)\n"
     ]
    },
    {
     "data": {
      "text/html": [
       "<div>\n",
       "<style scoped>\n",
       "    .dataframe tbody tr th:only-of-type {\n",
       "        vertical-align: middle;\n",
       "    }\n",
       "\n",
       "    .dataframe tbody tr th {\n",
       "        vertical-align: top;\n",
       "    }\n",
       "\n",
       "    .dataframe thead th {\n",
       "        text-align: right;\n",
       "    }\n",
       "</style>\n",
       "<table border=\"1\" class=\"dataframe\">\n",
       "  <thead>\n",
       "    <tr style=\"text-align: right;\">\n",
       "      <th></th>\n",
       "      <th>review_id</th>\n",
       "      <th>product_id</th>\n",
       "      <th>stars</th>\n",
       "      <th>review_body</th>\n",
       "      <th>review_title</th>\n",
       "      <th>language</th>\n",
       "      <th>product_category</th>\n",
       "    </tr>\n",
       "  </thead>\n",
       "  <tbody>\n",
       "    <tr>\n",
       "      <th>0</th>\n",
       "      <td>de_0203609</td>\n",
       "      <td>product_de_0865382</td>\n",
       "      <td>1</td>\n",
       "      <td>Armband ist leider nach 1 Jahr kaputt gegangen</td>\n",
       "      <td>Leider nach 1 Jahr kaputt</td>\n",
       "      <td>de</td>\n",
       "      <td>sports</td>\n",
       "    </tr>\n",
       "    <tr>\n",
       "      <th>1</th>\n",
       "      <td>de_0559494</td>\n",
       "      <td>product_de_0678997</td>\n",
       "      <td>1</td>\n",
       "      <td>In der Lieferung war nur Ein Akku!</td>\n",
       "      <td>EINS statt ZWEI Akkus!!!</td>\n",
       "      <td>de</td>\n",
       "      <td>home_improvement</td>\n",
       "    </tr>\n",
       "    <tr>\n",
       "      <th>2</th>\n",
       "      <td>de_0238777</td>\n",
       "      <td>product_de_0372235</td>\n",
       "      <td>1</td>\n",
       "      <td>Ein Stern, weil gar keine geht nicht. Es hande...</td>\n",
       "      <td>Achtung Abzocke</td>\n",
       "      <td>de</td>\n",
       "      <td>drugstore</td>\n",
       "    </tr>\n",
       "    <tr>\n",
       "      <th>3</th>\n",
       "      <td>de_0477884</td>\n",
       "      <td>product_de_0719501</td>\n",
       "      <td>1</td>\n",
       "      <td>Dachte, das wären einfach etwas festere Binden...</td>\n",
       "      <td>Zu viel des Guten</td>\n",
       "      <td>de</td>\n",
       "      <td>drugstore</td>\n",
       "    </tr>\n",
       "    <tr>\n",
       "      <th>4</th>\n",
       "      <td>de_0270868</td>\n",
       "      <td>product_de_0022613</td>\n",
       "      <td>1</td>\n",
       "      <td>Meine Kinder haben kaum damit gespielt und nac...</td>\n",
       "      <td>Qualität sehr schlecht</td>\n",
       "      <td>de</td>\n",
       "      <td>toy</td>\n",
       "    </tr>\n",
       "  </tbody>\n",
       "</table>\n",
       "</div>"
      ],
      "text/plain": [
       "    review_id          product_id  stars  \\\n",
       "0  de_0203609  product_de_0865382      1   \n",
       "1  de_0559494  product_de_0678997      1   \n",
       "2  de_0238777  product_de_0372235      1   \n",
       "3  de_0477884  product_de_0719501      1   \n",
       "4  de_0270868  product_de_0022613      1   \n",
       "\n",
       "                                         review_body  \\\n",
       "0     Armband ist leider nach 1 Jahr kaputt gegangen   \n",
       "1                 In der Lieferung war nur Ein Akku!   \n",
       "2  Ein Stern, weil gar keine geht nicht. Es hande...   \n",
       "3  Dachte, das wären einfach etwas festere Binden...   \n",
       "4  Meine Kinder haben kaum damit gespielt und nac...   \n",
       "\n",
       "                review_title language  product_category  \n",
       "0  Leider nach 1 Jahr kaputt       de            sports  \n",
       "1   EINS statt ZWEI Akkus!!!       de  home_improvement  \n",
       "2            Achtung Abzocke       de         drugstore  \n",
       "3          Zu viel des Guten       de         drugstore  \n",
       "4     Qualität sehr schlecht       de               toy  "
      ]
     },
     "execution_count": 10,
     "metadata": {},
     "output_type": "execute_result"
    }
   ],
   "source": [
    "german_lang_train_reviews = initial_df[initial_df['language'] == 'de']\n",
    "german_lang_train_reviews.drop(columns=['Unnamed: 0', 'reviewer_id'], inplace=True)\n",
    "german_lang_train_reviews.head()"
   ]
  },
  {
   "cell_type": "code",
   "execution_count": 11,
   "id": "da2ce5d9",
   "metadata": {},
   "outputs": [
    {
     "data": {
      "text/plain": [
       "(200000, 7)"
      ]
     },
     "execution_count": 11,
     "metadata": {},
     "output_type": "execute_result"
    }
   ],
   "source": [
    "german_lang_train_reviews.shape"
   ]
  },
  {
   "cell_type": "code",
   "execution_count": null,
   "id": "f5eb6ed7",
   "metadata": {},
   "outputs": [],
   "source": []
  },
  {
   "cell_type": "code",
   "execution_count": 12,
   "id": "0b0120bd",
   "metadata": {},
   "outputs": [],
   "source": [
    "german_lang_train_reviews.to_csv('german_lang_train_reviews.csv', index=False)"
   ]
  },
  {
   "cell_type": "code",
   "execution_count": 13,
   "id": "61a570bb",
   "metadata": {},
   "outputs": [],
   "source": [
    "english_lang_train_reviews.to_csv('english_lang_train_reviews.csv', index=False)"
   ]
  },
  {
   "cell_type": "code",
   "execution_count": null,
   "id": "3ed3e60b",
   "metadata": {},
   "outputs": [],
   "source": []
  },
  {
   "cell_type": "code",
   "execution_count": null,
   "id": "3e9b91cf",
   "metadata": {},
   "outputs": [],
   "source": []
  },
  {
   "cell_type": "code",
   "execution_count": 14,
   "id": "2a9c785d",
   "metadata": {},
   "outputs": [],
   "source": [
    "test_df = pd.read_csv(os.getcwd()+\"/Dataset/test.csv\")"
   ]
  },
  {
   "cell_type": "code",
   "execution_count": 15,
   "id": "1463c55d",
   "metadata": {},
   "outputs": [
    {
     "data": {
      "text/html": [
       "<div>\n",
       "<style scoped>\n",
       "    .dataframe tbody tr th:only-of-type {\n",
       "        vertical-align: middle;\n",
       "    }\n",
       "\n",
       "    .dataframe tbody tr th {\n",
       "        vertical-align: top;\n",
       "    }\n",
       "\n",
       "    .dataframe thead th {\n",
       "        text-align: right;\n",
       "    }\n",
       "</style>\n",
       "<table border=\"1\" class=\"dataframe\">\n",
       "  <thead>\n",
       "    <tr style=\"text-align: right;\">\n",
       "      <th></th>\n",
       "      <th>Unnamed: 0</th>\n",
       "      <th>review_id</th>\n",
       "      <th>product_id</th>\n",
       "      <th>reviewer_id</th>\n",
       "      <th>stars</th>\n",
       "      <th>review_body</th>\n",
       "      <th>review_title</th>\n",
       "      <th>language</th>\n",
       "      <th>product_category</th>\n",
       "    </tr>\n",
       "  </thead>\n",
       "  <tbody>\n",
       "    <tr>\n",
       "      <th>0</th>\n",
       "      <td>0</td>\n",
       "      <td>de_0784695</td>\n",
       "      <td>product_de_0572654</td>\n",
       "      <td>reviewer_de_0645436</td>\n",
       "      <td>1</td>\n",
       "      <td>Leider, leider nach einmal waschen ausgebliche...</td>\n",
       "      <td>Leider nicht zu empfehlen</td>\n",
       "      <td>de</td>\n",
       "      <td>home</td>\n",
       "    </tr>\n",
       "    <tr>\n",
       "      <th>1</th>\n",
       "      <td>1</td>\n",
       "      <td>de_0759207</td>\n",
       "      <td>product_de_0567331</td>\n",
       "      <td>reviewer_de_0183703</td>\n",
       "      <td>1</td>\n",
       "      <td>zunächst macht der Anker Halter einen soliden ...</td>\n",
       "      <td>Gummierung nach 6 Monaten kaputt</td>\n",
       "      <td>de</td>\n",
       "      <td>wireless</td>\n",
       "    </tr>\n",
       "    <tr>\n",
       "      <th>2</th>\n",
       "      <td>2</td>\n",
       "      <td>de_0711785</td>\n",
       "      <td>product_de_0482105</td>\n",
       "      <td>reviewer_de_0182152</td>\n",
       "      <td>1</td>\n",
       "      <td>Siegel sowie Verpackung war beschädigt und war...</td>\n",
       "      <td>Flohmarkt ware</td>\n",
       "      <td>de</td>\n",
       "      <td>industrial_supplies</td>\n",
       "    </tr>\n",
       "    <tr>\n",
       "      <th>3</th>\n",
       "      <td>3</td>\n",
       "      <td>de_0964430</td>\n",
       "      <td>product_de_0616480</td>\n",
       "      <td>reviewer_de_0991563</td>\n",
       "      <td>1</td>\n",
       "      <td>Habe dieses Produkt NIE erhalten und das Geld ...</td>\n",
       "      <td>Katastrophe</td>\n",
       "      <td>de</td>\n",
       "      <td>industrial_supplies</td>\n",
       "    </tr>\n",
       "    <tr>\n",
       "      <th>4</th>\n",
       "      <td>4</td>\n",
       "      <td>de_0474538</td>\n",
       "      <td>product_de_0228702</td>\n",
       "      <td>reviewer_de_0316188</td>\n",
       "      <td>1</td>\n",
       "      <td>Die Träger sind schnell abgerissen</td>\n",
       "      <td>Reißverschluss klemmt</td>\n",
       "      <td>de</td>\n",
       "      <td>luggage</td>\n",
       "    </tr>\n",
       "  </tbody>\n",
       "</table>\n",
       "</div>"
      ],
      "text/plain": [
       "   Unnamed: 0   review_id          product_id          reviewer_id  stars  \\\n",
       "0           0  de_0784695  product_de_0572654  reviewer_de_0645436      1   \n",
       "1           1  de_0759207  product_de_0567331  reviewer_de_0183703      1   \n",
       "2           2  de_0711785  product_de_0482105  reviewer_de_0182152      1   \n",
       "3           3  de_0964430  product_de_0616480  reviewer_de_0991563      1   \n",
       "4           4  de_0474538  product_de_0228702  reviewer_de_0316188      1   \n",
       "\n",
       "                                         review_body  \\\n",
       "0  Leider, leider nach einmal waschen ausgebliche...   \n",
       "1  zunächst macht der Anker Halter einen soliden ...   \n",
       "2  Siegel sowie Verpackung war beschädigt und war...   \n",
       "3  Habe dieses Produkt NIE erhalten und das Geld ...   \n",
       "4                 Die Träger sind schnell abgerissen   \n",
       "\n",
       "                       review_title language     product_category  \n",
       "0         Leider nicht zu empfehlen       de                 home  \n",
       "1  Gummierung nach 6 Monaten kaputt       de             wireless  \n",
       "2                    Flohmarkt ware       de  industrial_supplies  \n",
       "3                       Katastrophe       de  industrial_supplies  \n",
       "4             Reißverschluss klemmt       de              luggage  "
      ]
     },
     "execution_count": 15,
     "metadata": {},
     "output_type": "execute_result"
    }
   ],
   "source": [
    "test_df.head()"
   ]
  },
  {
   "cell_type": "code",
   "execution_count": 16,
   "id": "1729ac3c",
   "metadata": {},
   "outputs": [
    {
     "name": "stderr",
     "output_type": "stream",
     "text": [
      "/var/folders/j2/sk_tpq311dn0rsb2ksfpkzb00000gn/T/ipykernel_15424/3101386127.py:2: SettingWithCopyWarning: \n",
      "A value is trying to be set on a copy of a slice from a DataFrame\n",
      "\n",
      "See the caveats in the documentation: https://pandas.pydata.org/pandas-docs/stable/user_guide/indexing.html#returning-a-view-versus-a-copy\n",
      "  english_lang_test_reviews.drop(columns=['Unnamed: 0', 'reviewer_id'], inplace=True)\n"
     ]
    },
    {
     "data": {
      "text/html": [
       "<div>\n",
       "<style scoped>\n",
       "    .dataframe tbody tr th:only-of-type {\n",
       "        vertical-align: middle;\n",
       "    }\n",
       "\n",
       "    .dataframe tbody tr th {\n",
       "        vertical-align: top;\n",
       "    }\n",
       "\n",
       "    .dataframe thead th {\n",
       "        text-align: right;\n",
       "    }\n",
       "</style>\n",
       "<table border=\"1\" class=\"dataframe\">\n",
       "  <thead>\n",
       "    <tr style=\"text-align: right;\">\n",
       "      <th></th>\n",
       "      <th>review_id</th>\n",
       "      <th>product_id</th>\n",
       "      <th>stars</th>\n",
       "      <th>review_body</th>\n",
       "      <th>review_title</th>\n",
       "      <th>language</th>\n",
       "      <th>product_category</th>\n",
       "    </tr>\n",
       "  </thead>\n",
       "  <tbody>\n",
       "    <tr>\n",
       "      <th>5000</th>\n",
       "      <td>en_0199937</td>\n",
       "      <td>product_en_0902516</td>\n",
       "      <td>1</td>\n",
       "      <td>These are AWFUL. They are see through, the fab...</td>\n",
       "      <td>Don’t waste your time!</td>\n",
       "      <td>en</td>\n",
       "      <td>apparel</td>\n",
       "    </tr>\n",
       "    <tr>\n",
       "      <th>5001</th>\n",
       "      <td>en_0863335</td>\n",
       "      <td>product_en_0348072</td>\n",
       "      <td>1</td>\n",
       "      <td>I bought 4 and NONE of them worked. Yes I used...</td>\n",
       "      <td>One Star</td>\n",
       "      <td>en</td>\n",
       "      <td>other</td>\n",
       "    </tr>\n",
       "    <tr>\n",
       "      <th>5002</th>\n",
       "      <td>en_0565010</td>\n",
       "      <td>product_en_0356154</td>\n",
       "      <td>1</td>\n",
       "      <td>On first use it didn't heat up and now it does...</td>\n",
       "      <td>Totally useless</td>\n",
       "      <td>en</td>\n",
       "      <td>other</td>\n",
       "    </tr>\n",
       "    <tr>\n",
       "      <th>5003</th>\n",
       "      <td>en_0963290</td>\n",
       "      <td>product_en_0583322</td>\n",
       "      <td>1</td>\n",
       "      <td>You want an HONEST answer? I just returned fro...</td>\n",
       "      <td>Gold filled earrings</td>\n",
       "      <td>en</td>\n",
       "      <td>jewelry</td>\n",
       "    </tr>\n",
       "    <tr>\n",
       "      <th>5004</th>\n",
       "      <td>en_0238156</td>\n",
       "      <td>product_en_0487636</td>\n",
       "      <td>1</td>\n",
       "      <td>The glue works fine but the container is impos...</td>\n",
       "      <td>Poor container</td>\n",
       "      <td>en</td>\n",
       "      <td>industrial_supplies</td>\n",
       "    </tr>\n",
       "  </tbody>\n",
       "</table>\n",
       "</div>"
      ],
      "text/plain": [
       "       review_id          product_id  stars  \\\n",
       "5000  en_0199937  product_en_0902516      1   \n",
       "5001  en_0863335  product_en_0348072      1   \n",
       "5002  en_0565010  product_en_0356154      1   \n",
       "5003  en_0963290  product_en_0583322      1   \n",
       "5004  en_0238156  product_en_0487636      1   \n",
       "\n",
       "                                            review_body  \\\n",
       "5000  These are AWFUL. They are see through, the fab...   \n",
       "5001  I bought 4 and NONE of them worked. Yes I used...   \n",
       "5002  On first use it didn't heat up and now it does...   \n",
       "5003  You want an HONEST answer? I just returned fro...   \n",
       "5004  The glue works fine but the container is impos...   \n",
       "\n",
       "                review_title language     product_category  \n",
       "5000  Don’t waste your time!       en              apparel  \n",
       "5001                One Star       en                other  \n",
       "5002         Totally useless       en                other  \n",
       "5003    Gold filled earrings       en              jewelry  \n",
       "5004          Poor container       en  industrial_supplies  "
      ]
     },
     "execution_count": 16,
     "metadata": {},
     "output_type": "execute_result"
    }
   ],
   "source": [
    "english_lang_test_reviews = test_df[test_df['language'] == 'en']\n",
    "english_lang_test_reviews.drop(columns=['Unnamed: 0', 'reviewer_id'], inplace=True)\n",
    "english_lang_test_reviews.head()"
   ]
  },
  {
   "cell_type": "code",
   "execution_count": 17,
   "id": "47076408",
   "metadata": {},
   "outputs": [
    {
     "name": "stderr",
     "output_type": "stream",
     "text": [
      "/var/folders/j2/sk_tpq311dn0rsb2ksfpkzb00000gn/T/ipykernel_15424/3435924005.py:2: SettingWithCopyWarning: \n",
      "A value is trying to be set on a copy of a slice from a DataFrame\n",
      "\n",
      "See the caveats in the documentation: https://pandas.pydata.org/pandas-docs/stable/user_guide/indexing.html#returning-a-view-versus-a-copy\n",
      "  german_lang_test_reviews.drop(columns=['Unnamed: 0', 'reviewer_id'], inplace=True)\n"
     ]
    },
    {
     "data": {
      "text/html": [
       "<div>\n",
       "<style scoped>\n",
       "    .dataframe tbody tr th:only-of-type {\n",
       "        vertical-align: middle;\n",
       "    }\n",
       "\n",
       "    .dataframe tbody tr th {\n",
       "        vertical-align: top;\n",
       "    }\n",
       "\n",
       "    .dataframe thead th {\n",
       "        text-align: right;\n",
       "    }\n",
       "</style>\n",
       "<table border=\"1\" class=\"dataframe\">\n",
       "  <thead>\n",
       "    <tr style=\"text-align: right;\">\n",
       "      <th></th>\n",
       "      <th>review_id</th>\n",
       "      <th>product_id</th>\n",
       "      <th>stars</th>\n",
       "      <th>review_body</th>\n",
       "      <th>review_title</th>\n",
       "      <th>language</th>\n",
       "      <th>product_category</th>\n",
       "    </tr>\n",
       "  </thead>\n",
       "  <tbody>\n",
       "    <tr>\n",
       "      <th>0</th>\n",
       "      <td>de_0784695</td>\n",
       "      <td>product_de_0572654</td>\n",
       "      <td>1</td>\n",
       "      <td>Leider, leider nach einmal waschen ausgebliche...</td>\n",
       "      <td>Leider nicht zu empfehlen</td>\n",
       "      <td>de</td>\n",
       "      <td>home</td>\n",
       "    </tr>\n",
       "    <tr>\n",
       "      <th>1</th>\n",
       "      <td>de_0759207</td>\n",
       "      <td>product_de_0567331</td>\n",
       "      <td>1</td>\n",
       "      <td>zunächst macht der Anker Halter einen soliden ...</td>\n",
       "      <td>Gummierung nach 6 Monaten kaputt</td>\n",
       "      <td>de</td>\n",
       "      <td>wireless</td>\n",
       "    </tr>\n",
       "    <tr>\n",
       "      <th>2</th>\n",
       "      <td>de_0711785</td>\n",
       "      <td>product_de_0482105</td>\n",
       "      <td>1</td>\n",
       "      <td>Siegel sowie Verpackung war beschädigt und war...</td>\n",
       "      <td>Flohmarkt ware</td>\n",
       "      <td>de</td>\n",
       "      <td>industrial_supplies</td>\n",
       "    </tr>\n",
       "    <tr>\n",
       "      <th>3</th>\n",
       "      <td>de_0964430</td>\n",
       "      <td>product_de_0616480</td>\n",
       "      <td>1</td>\n",
       "      <td>Habe dieses Produkt NIE erhalten und das Geld ...</td>\n",
       "      <td>Katastrophe</td>\n",
       "      <td>de</td>\n",
       "      <td>industrial_supplies</td>\n",
       "    </tr>\n",
       "    <tr>\n",
       "      <th>4</th>\n",
       "      <td>de_0474538</td>\n",
       "      <td>product_de_0228702</td>\n",
       "      <td>1</td>\n",
       "      <td>Die Träger sind schnell abgerissen</td>\n",
       "      <td>Reißverschluss klemmt</td>\n",
       "      <td>de</td>\n",
       "      <td>luggage</td>\n",
       "    </tr>\n",
       "  </tbody>\n",
       "</table>\n",
       "</div>"
      ],
      "text/plain": [
       "    review_id          product_id  stars  \\\n",
       "0  de_0784695  product_de_0572654      1   \n",
       "1  de_0759207  product_de_0567331      1   \n",
       "2  de_0711785  product_de_0482105      1   \n",
       "3  de_0964430  product_de_0616480      1   \n",
       "4  de_0474538  product_de_0228702      1   \n",
       "\n",
       "                                         review_body  \\\n",
       "0  Leider, leider nach einmal waschen ausgebliche...   \n",
       "1  zunächst macht der Anker Halter einen soliden ...   \n",
       "2  Siegel sowie Verpackung war beschädigt und war...   \n",
       "3  Habe dieses Produkt NIE erhalten und das Geld ...   \n",
       "4                 Die Träger sind schnell abgerissen   \n",
       "\n",
       "                       review_title language     product_category  \n",
       "0         Leider nicht zu empfehlen       de                 home  \n",
       "1  Gummierung nach 6 Monaten kaputt       de             wireless  \n",
       "2                    Flohmarkt ware       de  industrial_supplies  \n",
       "3                       Katastrophe       de  industrial_supplies  \n",
       "4             Reißverschluss klemmt       de              luggage  "
      ]
     },
     "execution_count": 17,
     "metadata": {},
     "output_type": "execute_result"
    }
   ],
   "source": [
    "german_lang_test_reviews = test_df[test_df['language'] == 'de']\n",
    "german_lang_test_reviews.drop(columns=['Unnamed: 0', 'reviewer_id'], inplace=True)\n",
    "german_lang_test_reviews.head()"
   ]
  },
  {
   "cell_type": "code",
   "execution_count": 18,
   "id": "79b14afc",
   "metadata": {},
   "outputs": [],
   "source": [
    "german_lang_test_reviews.to_csv('german_lang_test_reviews.csv', index=False)"
   ]
  },
  {
   "cell_type": "code",
   "execution_count": 19,
   "id": "64466672",
   "metadata": {},
   "outputs": [],
   "source": [
    "english_lang_test_reviews.to_csv('english_lang_test_reviews.csv', index=False)"
   ]
  },
  {
   "cell_type": "code",
   "execution_count": null,
   "id": "b886496a",
   "metadata": {},
   "outputs": [],
   "source": []
  },
  {
   "cell_type": "code",
   "execution_count": null,
   "id": "62f52e27",
   "metadata": {},
   "outputs": [],
   "source": []
  },
  {
   "cell_type": "code",
   "execution_count": 20,
   "id": "250e43e1",
   "metadata": {},
   "outputs": [
    {
     "data": {
      "text/plain": [
       "home                        17679\n",
       "apparel                     15951\n",
       "wireless                    15717\n",
       "other                       13418\n",
       "beauty                      12091\n",
       "drugstore                   11730\n",
       "kitchen                     10382\n",
       "toy                          8745\n",
       "sports                       8277\n",
       "automotive                   7506\n",
       "lawn_and_garden              7327\n",
       "home_improvement             7136\n",
       "pet_products                 7082\n",
       "digital_ebook_purchase       6749\n",
       "pc                           6401\n",
       "electronics                  6186\n",
       "office_product               5521\n",
       "shoes                        5197\n",
       "grocery                      4730\n",
       "book                         3756\n",
       "baby_product                 3150\n",
       "furniture                    2984\n",
       "jewelry                      2747\n",
       "camera                       2139\n",
       "industrial_supplies          1994\n",
       "digital_video_download       1364\n",
       "luggage                      1328\n",
       "musical_instruments          1102\n",
       "video_games                   775\n",
       "watch                         761\n",
       "personal_care_appliances       75\n",
       "Name: product_category, dtype: int64"
      ]
     },
     "execution_count": 20,
     "metadata": {},
     "output_type": "execute_result"
    }
   ],
   "source": [
    "english_lang_train_reviews['product_category'].value_counts()"
   ]
  },
  {
   "cell_type": "code",
   "execution_count": null,
   "id": "90248a40",
   "metadata": {},
   "outputs": [],
   "source": []
  },
  {
   "cell_type": "code",
   "execution_count": 21,
   "id": "39ed7712",
   "metadata": {},
   "outputs": [],
   "source": [
    "class TextPreprocessor():\n",
    "\n",
    "    def __init__(self):\n",
    "\n",
    "        self.stemmer = PorterStemmer()\n",
    "        self.stop_words = set(stopwords.words('english'))\n",
    "\n",
    "\n",
    "    def preprocess_text(self, text):\n",
    "\n",
    "        text = text.lower() # Convert to lower case\n",
    "        text = re.sub(r'<.*?>', '', text) # Remove punctuations\n",
    "        text = re.sub(r'[^\\w\\s]', '', text) # Remove HTML tags\n",
    "        tokens = nltk.word_tokenize(text) # Tokenize the text\n",
    "        tokens = [self.stemmer.stem(token) for token in tokens if token not in self.stop_words] # Stemming the text\n",
    "        return ' '.join(tokens)"
   ]
  },
  {
   "cell_type": "code",
   "execution_count": 22,
   "id": "586b2436",
   "metadata": {},
   "outputs": [
    {
     "name": "stderr",
     "output_type": "stream",
     "text": [
      "/var/folders/j2/sk_tpq311dn0rsb2ksfpkzb00000gn/T/ipykernel_15424/1948113571.py:4: SettingWithCopyWarning: \n",
      "A value is trying to be set on a copy of a slice from a DataFrame.\n",
      "Try using .loc[row_indexer,col_indexer] = value instead\n",
      "\n",
      "See the caveats in the documentation: https://pandas.pydata.org/pandas-docs/stable/user_guide/indexing.html#returning-a-view-versus-a-copy\n",
      "  english_lang_train_reviews['preprocessed_text'] = english_lang_train_reviews['review_body'].apply(preprocessor.preprocess_text)\n",
      "/var/folders/j2/sk_tpq311dn0rsb2ksfpkzb00000gn/T/ipykernel_15424/1948113571.py:5: SettingWithCopyWarning: \n",
      "A value is trying to be set on a copy of a slice from a DataFrame.\n",
      "Try using .loc[row_indexer,col_indexer] = value instead\n",
      "\n",
      "See the caveats in the documentation: https://pandas.pydata.org/pandas-docs/stable/user_guide/indexing.html#returning-a-view-versus-a-copy\n",
      "  english_lang_test_reviews['preprocessed_text'] = english_lang_test_reviews['review_body'].apply(preprocessor.preprocess_text)\n"
     ]
    },
    {
     "ename": "NameError",
     "evalue": "name 'english_train_reviews' is not defined",
     "output_type": "error",
     "traceback": [
      "\u001b[0;31m---------------------------------------------------------------------------\u001b[0m",
      "\u001b[0;31mNameError\u001b[0m                                 Traceback (most recent call last)",
      "\u001b[0;32m/var/folders/j2/sk_tpq311dn0rsb2ksfpkzb00000gn/T/ipykernel_15424/1948113571.py\u001b[0m in \u001b[0;36m<module>\u001b[0;34m\u001b[0m\n\u001b[1;32m      5\u001b[0m \u001b[0menglish_lang_test_reviews\u001b[0m\u001b[0;34m[\u001b[0m\u001b[0;34m'preprocessed_text'\u001b[0m\u001b[0;34m]\u001b[0m \u001b[0;34m=\u001b[0m \u001b[0menglish_lang_test_reviews\u001b[0m\u001b[0;34m[\u001b[0m\u001b[0;34m'review_body'\u001b[0m\u001b[0;34m]\u001b[0m\u001b[0;34m.\u001b[0m\u001b[0mapply\u001b[0m\u001b[0;34m(\u001b[0m\u001b[0mpreprocessor\u001b[0m\u001b[0;34m.\u001b[0m\u001b[0mpreprocess_text\u001b[0m\u001b[0;34m)\u001b[0m\u001b[0;34m\u001b[0m\u001b[0;34m\u001b[0m\u001b[0m\n\u001b[1;32m      6\u001b[0m \u001b[0;34m\u001b[0m\u001b[0m\n\u001b[0;32m----> 7\u001b[0;31m \u001b[0menglish_train_reviews\u001b[0m\u001b[0;34m.\u001b[0m\u001b[0mhead\u001b[0m\u001b[0;34m(\u001b[0m\u001b[0;36m5\u001b[0m\u001b[0;34m)\u001b[0m\u001b[0;34m\u001b[0m\u001b[0;34m\u001b[0m\u001b[0m\n\u001b[0m",
      "\u001b[0;31mNameError\u001b[0m: name 'english_train_reviews' is not defined"
     ]
    }
   ],
   "source": [
    "preprocessor = TextPreprocessor()\n",
    "\n",
    "# Apply the custom transformer to a specific column and create a new column\n",
    "english_lang_train_reviews['preprocessed_text'] = english_lang_train_reviews['review_body'].apply(preprocessor.preprocess_text)\n",
    "english_lang_test_reviews['preprocessed_text'] = english_lang_test_reviews['review_body'].apply(preprocessor.preprocess_text)"
   ]
  },
  {
   "cell_type": "code",
   "execution_count": 24,
   "id": "c1c64752",
   "metadata": {},
   "outputs": [
    {
     "data": {
      "text/html": [
       "<div>\n",
       "<style scoped>\n",
       "    .dataframe tbody tr th:only-of-type {\n",
       "        vertical-align: middle;\n",
       "    }\n",
       "\n",
       "    .dataframe tbody tr th {\n",
       "        vertical-align: top;\n",
       "    }\n",
       "\n",
       "    .dataframe thead th {\n",
       "        text-align: right;\n",
       "    }\n",
       "</style>\n",
       "<table border=\"1\" class=\"dataframe\">\n",
       "  <thead>\n",
       "    <tr style=\"text-align: right;\">\n",
       "      <th></th>\n",
       "      <th>review_id</th>\n",
       "      <th>product_id</th>\n",
       "      <th>stars</th>\n",
       "      <th>review_body</th>\n",
       "      <th>review_title</th>\n",
       "      <th>language</th>\n",
       "      <th>product_category</th>\n",
       "      <th>preprocessed_text</th>\n",
       "    </tr>\n",
       "  </thead>\n",
       "  <tbody>\n",
       "    <tr>\n",
       "      <th>200000</th>\n",
       "      <td>en_0964290</td>\n",
       "      <td>product_en_0740675</td>\n",
       "      <td>1</td>\n",
       "      <td>Arrived broken. Manufacturer defect. Two of th...</td>\n",
       "      <td>I'll spend twice the amount of time boxing up ...</td>\n",
       "      <td>en</td>\n",
       "      <td>furniture</td>\n",
       "      <td>arriv broken manufactur defect two leg base co...</td>\n",
       "    </tr>\n",
       "    <tr>\n",
       "      <th>200001</th>\n",
       "      <td>en_0690095</td>\n",
       "      <td>product_en_0440378</td>\n",
       "      <td>1</td>\n",
       "      <td>the cabinet dot were all detached from backing...</td>\n",
       "      <td>Not use able</td>\n",
       "      <td>en</td>\n",
       "      <td>home_improvement</td>\n",
       "      <td>cabinet dot detach back got</td>\n",
       "    </tr>\n",
       "    <tr>\n",
       "      <th>200002</th>\n",
       "      <td>en_0311558</td>\n",
       "      <td>product_en_0399702</td>\n",
       "      <td>1</td>\n",
       "      <td>I received my first order of this product and ...</td>\n",
       "      <td>The product is junk.</td>\n",
       "      <td>en</td>\n",
       "      <td>home</td>\n",
       "      <td>receiv first order product broke order second ...</td>\n",
       "    </tr>\n",
       "    <tr>\n",
       "      <th>200003</th>\n",
       "      <td>en_0044972</td>\n",
       "      <td>product_en_0444063</td>\n",
       "      <td>1</td>\n",
       "      <td>This product is a piece of shit. Do not buy. D...</td>\n",
       "      <td>Fucking waste of money</td>\n",
       "      <td>en</td>\n",
       "      <td>wireless</td>\n",
       "      <td>product piec shit buy doesnt work tri call cus...</td>\n",
       "    </tr>\n",
       "    <tr>\n",
       "      <th>200004</th>\n",
       "      <td>en_0784379</td>\n",
       "      <td>product_en_0139353</td>\n",
       "      <td>1</td>\n",
       "      <td>went through 3 in one day doesn't fit correct ...</td>\n",
       "      <td>bubble</td>\n",
       "      <td>en</td>\n",
       "      <td>pc</td>\n",
       "      <td>went 3 one day doesnt fit correct couldnt get ...</td>\n",
       "    </tr>\n",
       "  </tbody>\n",
       "</table>\n",
       "</div>"
      ],
      "text/plain": [
       "         review_id          product_id  stars  \\\n",
       "200000  en_0964290  product_en_0740675      1   \n",
       "200001  en_0690095  product_en_0440378      1   \n",
       "200002  en_0311558  product_en_0399702      1   \n",
       "200003  en_0044972  product_en_0444063      1   \n",
       "200004  en_0784379  product_en_0139353      1   \n",
       "\n",
       "                                              review_body  \\\n",
       "200000  Arrived broken. Manufacturer defect. Two of th...   \n",
       "200001  the cabinet dot were all detached from backing...   \n",
       "200002  I received my first order of this product and ...   \n",
       "200003  This product is a piece of shit. Do not buy. D...   \n",
       "200004  went through 3 in one day doesn't fit correct ...   \n",
       "\n",
       "                                             review_title language  \\\n",
       "200000  I'll spend twice the amount of time boxing up ...       en   \n",
       "200001                                       Not use able       en   \n",
       "200002                               The product is junk.       en   \n",
       "200003                             Fucking waste of money       en   \n",
       "200004                                             bubble       en   \n",
       "\n",
       "        product_category                                  preprocessed_text  \n",
       "200000         furniture  arriv broken manufactur defect two leg base co...  \n",
       "200001  home_improvement                        cabinet dot detach back got  \n",
       "200002              home  receiv first order product broke order second ...  \n",
       "200003          wireless  product piec shit buy doesnt work tri call cus...  \n",
       "200004                pc  went 3 one day doesnt fit correct couldnt get ...  "
      ]
     },
     "execution_count": 24,
     "metadata": {},
     "output_type": "execute_result"
    }
   ],
   "source": [
    "english_lang_train_reviews.head(5)"
   ]
  },
  {
   "cell_type": "markdown",
   "id": "081e5834",
   "metadata": {},
   "source": [
    "## Using Count Vectorizer"
   ]
  },
  {
   "cell_type": "code",
   "execution_count": 26,
   "id": "63d9316d",
   "metadata": {},
   "outputs": [],
   "source": [
    "# Create a Count Vectorizer\n",
    "count_vectorizer = CountVectorizer(ngram_range=(1,1))\n",
    "\n",
    "# Transform the preprocessed text data into a document-term matrix\n",
    "count_matrix = count_vectorizer.fit_transform(english_lang_train_reviews['preprocessed_text'])"
   ]
  },
  {
   "cell_type": "code",
   "execution_count": 32,
   "id": "6e22ab88",
   "metadata": {},
   "outputs": [
    {
     "name": "stdout",
     "output_type": "stream",
     "text": [
      "44263  ...  [('arriv', 3560), ('broken', 6353), ('manufactur', 23327), ('defect', 10825), ('two', 40239), ('leg', 21835), ('base', 4506), ('complet', 9018), ('form', 15386), ('way', 42341), ('insert', 19713), ('caster', 7458), ('unpackag', 40832), ('entir', 13304), ('chair', 7673), ('hardwar', 17792), ('notic', 26247), ('ill', 19223), ('spend', 36125), ('twice', 40199), ('amount', 2916), ('time', 39068), ('box', 6003), ('whole', 42941), ('useless', 41250), ('thing', 38684), ('send', 33931), ('back', 4106), ('1star', 562), ('review', 32246), ('part', 28056), ('never', 25602), ('got', 16812), ('sit', 34881), ('go', 16588), ('far', 14192), ('includ', 19426), ('pictur', 28808), ('inject', 19635), ('mold', 24615), ('qualiti', 30813), ('assur', 3718), ('process', 30155), ('miss', 24431), ('though', 38833), ('hesit', 18299), ('buy', 6813), ('make', 23209), ('wonder', 43287), ('arent', 3465), ('structur', 37096), ('support', 37494), ('dont', 12013), ('imped', 19308), ('assembl', 3685), ('cabinet', 6887), ('dot', 12073), ('detach', 11215), ('receiv', 31391), ('first', 14719), ('order', 27208), ('product', 30179), ('broke', 6340), ('second', 33688), ('one', 26898), ('place', 29044), ('cant', 7159), ('blame', 5394), ('ship', 34360), ('shrink', 34599), ('wrap', 43603), ('piec', 28843), ('shit', 34406), ('doesnt', 11903), ('work', 43361), ('tri', 39845), ('call', 6991), ('custom', 10234), ('wont', 43303), ('take', 37886), ('number', 26372), ('fuck', 15789), ('rip', 32462), ('went', 42717), ('day', 10562), ('fit', 14768), ('correct', 9503), ('couldnt', 9595), ('get', 16276), ('bubbl', 6495), ('better', 5058), ('without', 43220), ('poor', 29469), ('materi', 23495), ('fuzzi', 15940), ('discolor', 11625), ('less', 21932), ('month', 24745), ('even', 13558), ('kept', 21026)] \n",
      "\n",
      "(5000, 44263)\n"
     ]
    }
   ],
   "source": [
    "#Count-based feature extraction\n",
    "from sklearn.feature_extraction.text import CountVectorizer\n",
    "\n",
    "train_text = english_lang_train_reviews[\"preprocessed_text\"]\n",
    "test_text = english_lang_test_reviews[\"preprocessed_text\"]\n",
    "\n",
    "# set the n-gram range\n",
    "vectorizer = CountVectorizer(ngram_range = (1,1))\n",
    "\n",
    "# create training data representation\n",
    "train_data_cv = vectorizer.fit_transform(train_text)\n",
    "\n",
    "# observe the words in the created dictionary across the document\n",
    "pd.set_option('display.width', 1000)\n",
    "print(len(vectorizer.vocabulary_), \" ... \", list(vectorizer.vocabulary_.items())[0:100],\"\\n\")\n",
    "\n",
    "test_data_cv = vectorizer.transform(test_text)\n",
    "\n",
    "print(test_data_cv.shape)"
   ]
  },
  {
   "cell_type": "code",
   "execution_count": 33,
   "id": "93ec5e9b",
   "metadata": {},
   "outputs": [],
   "source": [
    "X_train = train_data_cv\n",
    "X_test = test_data_cv\n",
    "y_train = english_lang_train_reviews['product_category']\n",
    "y_test = english_lang_test_reviews['product_category']"
   ]
  },
  {
   "cell_type": "code",
   "execution_count": 35,
   "id": "8418d85c",
   "metadata": {},
   "outputs": [
    {
     "name": "stdout",
     "output_type": "stream",
     "text": [
      "Accuracy score:  0.4608\n",
      "Precision score:  0.46043675135409373\n",
      "Recall score:  0.4608\n",
      "F1 score:  0.44933555276736753\n",
      "5000                apparel\\tapparel\n",
      "5001                    other\\tother\n",
      "5002                   other\\tbeauty\n",
      "5003                  jewelry\\tother\n",
      "5004    industrial_supplies\\tkitchen\n",
      "                    ...             \n",
      "9995            drugstore\\tdrugstore\n",
      "9996                  beauty\\tbeauty\n",
      "9997                      home\\thome\n",
      "9998          automotive\\tautomotive\n",
      "9999                   apparel\\thome\n",
      "Name: product_category, Length: 5000, dtype: object\n"
     ]
    },
    {
     "name": "stderr",
     "output_type": "stream",
     "text": [
      "/opt/anaconda3/lib/python3.9/site-packages/sklearn/metrics/_classification.py:1318: UndefinedMetricWarning: Precision is ill-defined and being set to 0.0 in labels with no predicted samples. Use `zero_division` parameter to control this behavior.\n",
      "  _warn_prf(average, modifier, msg_start, len(result))\n"
     ]
    }
   ],
   "source": [
    "lr = LogisticRegression(penalty='l2', solver='lbfgs', max_iter=50000)\n",
    "lr.fit(X_train, y_train)\n",
    "predictions = lr.predict(X_test)\n",
    "\n",
    "print(\"Accuracy score: \", accuracy_score(y_test, predictions))\n",
    "print(\"Precision score: \", precision_score(y_test, predictions, average=\"weighted\"))\n",
    "print(\"Recall score: \", recall_score(y_test, predictions, average = \"weighted\"))\n",
    "print(\"F1 score: \", f1_score(y_test, predictions, average = \"weighted\"))\n",
    "\n",
    "print(y_test + '\\t' + predictions)"
   ]
  },
  {
   "cell_type": "code",
   "execution_count": 39,
   "id": "5788c995",
   "metadata": {},
   "outputs": [
    {
     "name": "stdout",
     "output_type": "stream",
     "text": [
      "                          precision    recall  f1-score   support\n",
      "\n",
      "                 apparel       0.51      0.78      0.62       390\n",
      "              automotive       0.50      0.44      0.47       187\n",
      "            baby_product       0.37      0.22      0.28        77\n",
      "                  beauty       0.46      0.50      0.48       301\n",
      "                    book       0.57      0.39      0.46       105\n",
      "                  camera       0.32      0.13      0.18        54\n",
      "  digital_ebook_purchase       0.82      0.87      0.85       173\n",
      "  digital_video_download       0.67      0.58      0.62        38\n",
      "               drugstore       0.38      0.41      0.40       289\n",
      "             electronics       0.37      0.21      0.27       153\n",
      "               furniture       0.58      0.40      0.48        62\n",
      "                 grocery       0.50      0.57      0.54       115\n",
      "                    home       0.33      0.47      0.39       440\n",
      "        home_improvement       0.40      0.33      0.36       183\n",
      "     industrial_supplies       0.20      0.03      0.05        64\n",
      "                 jewelry       0.59      0.44      0.50        89\n",
      "                 kitchen       0.47      0.48      0.47       254\n",
      "         lawn_and_garden       0.47      0.38      0.42       173\n",
      "                 luggage       0.36      0.14      0.20        36\n",
      "     musical_instruments       0.62      0.20      0.30        25\n",
      "          office_product       0.39      0.29      0.33       139\n",
      "                   other       0.30      0.28      0.29       324\n",
      "                      pc       0.49      0.37      0.42       155\n",
      "personal_care_appliances       0.00      0.00      0.00         2\n",
      "            pet_products       0.74      0.62      0.67       168\n",
      "                   shoes       0.63      0.55      0.59       129\n",
      "                  sports       0.38      0.23      0.29       217\n",
      "                     toy       0.46      0.43      0.44       241\n",
      "             video_games       0.67      0.27      0.38        30\n",
      "                   watch       0.70      0.54      0.61        13\n",
      "                wireless       0.46      0.66      0.54       374\n",
      "\n",
      "                accuracy                           0.46      5000\n",
      "               macro avg       0.47      0.39      0.42      5000\n",
      "            weighted avg       0.46      0.46      0.45      5000\n",
      "\n"
     ]
    },
    {
     "name": "stderr",
     "output_type": "stream",
     "text": [
      "/opt/anaconda3/lib/python3.9/site-packages/sklearn/metrics/_classification.py:1318: UndefinedMetricWarning: Precision and F-score are ill-defined and being set to 0.0 in labels with no predicted samples. Use `zero_division` parameter to control this behavior.\n",
      "  _warn_prf(average, modifier, msg_start, len(result))\n",
      "/opt/anaconda3/lib/python3.9/site-packages/sklearn/metrics/_classification.py:1318: UndefinedMetricWarning: Precision and F-score are ill-defined and being set to 0.0 in labels with no predicted samples. Use `zero_division` parameter to control this behavior.\n",
      "  _warn_prf(average, modifier, msg_start, len(result))\n",
      "/opt/anaconda3/lib/python3.9/site-packages/sklearn/metrics/_classification.py:1318: UndefinedMetricWarning: Precision and F-score are ill-defined and being set to 0.0 in labels with no predicted samples. Use `zero_division` parameter to control this behavior.\n",
      "  _warn_prf(average, modifier, msg_start, len(result))\n"
     ]
    }
   ],
   "source": [
    "report = classification_report(y_test, predictions)\n",
    "print(report)"
   ]
  },
  {
   "cell_type": "markdown",
   "id": "a166c6c7",
   "metadata": {},
   "source": [
    "## Using TF-IDF"
   ]
  },
  {
   "cell_type": "code",
   "execution_count": 40,
   "id": "9ddce0ec",
   "metadata": {},
   "outputs": [],
   "source": [
    "from sklearn.feature_extraction.text import TfidfVectorizer"
   ]
  },
  {
   "cell_type": "code",
   "execution_count": 41,
   "id": "e1893e1e",
   "metadata": {},
   "outputs": [],
   "source": [
    "# Initialize the TF-IDF vectorizer\n",
    "tfidf_vectorizer = TfidfVectorizer()\n",
    "\n",
    "# Fit and transform the preprocessed text data into TF-IDF vectors\n",
    "tfidf_train = tfidf_vectorizer.fit_transform(train_text)\n",
    "tfidf_test = tfidf_vectorizer.transform(test_text)"
   ]
  },
  {
   "cell_type": "code",
   "execution_count": 42,
   "id": "ae4bc838",
   "metadata": {},
   "outputs": [
    {
     "data": {
      "text/plain": [
       "(200000, 44263)"
      ]
     },
     "execution_count": 42,
     "metadata": {},
     "output_type": "execute_result"
    }
   ],
   "source": [
    "tfidf_train.shape"
   ]
  },
  {
   "cell_type": "code",
   "execution_count": 45,
   "id": "cd2ecd8b",
   "metadata": {},
   "outputs": [
    {
     "name": "stdout",
     "output_type": "stream",
     "text": [
      "Accuracy score:  0.4622\n",
      "Precision score:  0.4645109147407582\n",
      "Recall score:  0.4622\n",
      "F1 score:  0.44823348750575515\n",
      "5000                apparel\n",
      "5001                  other\n",
      "5002                  other\n",
      "5003                jewelry\n",
      "5004    industrial_supplies\n",
      "               ...         \n",
      "9995              drugstore\n",
      "9996                 beauty\n",
      "9997                   home\n",
      "9998             automotive\n",
      "9999                apparel\n",
      "Name: product_category, Length: 5000, dtype: object \t ['apparel' 'electronics' 'beauty' ... 'home' 'automotive' 'home']\n"
     ]
    },
    {
     "name": "stderr",
     "output_type": "stream",
     "text": [
      "/opt/anaconda3/lib/python3.9/site-packages/sklearn/metrics/_classification.py:1318: UndefinedMetricWarning: Precision is ill-defined and being set to 0.0 in labels with no predicted samples. Use `zero_division` parameter to control this behavior.\n",
      "  _warn_prf(average, modifier, msg_start, len(result))\n"
     ]
    }
   ],
   "source": [
    "lr_tfidf = LogisticRegression(penalty='l2', solver='lbfgs', max_iter=50000)\n",
    "lr_tfidf.fit(tfidf_train, y_train)\n",
    "predictions = lr_tfidf.predict(X_test)\n",
    "\n",
    "print(\"Accuracy score: \", accuracy_score(y_test, predictions))\n",
    "print(\"Precision score: \", precision_score(y_test, predictions, average=\"weighted\"))\n",
    "print(\"Recall score: \", recall_score(y_test, predictions, average = \"weighted\"))\n",
    "print(\"F1 score: \", f1_score(y_test, predictions, average = \"weighted\"))\n",
    "\n",
    "print(y_test, '\\t', predictions)"
   ]
  },
  {
   "cell_type": "code",
   "execution_count": 46,
   "id": "b6e19a70",
   "metadata": {},
   "outputs": [
    {
     "name": "stdout",
     "output_type": "stream",
     "text": [
      "                          precision    recall  f1-score   support\n",
      "\n",
      "                 apparel       0.55      0.75      0.64       390\n",
      "              automotive       0.46      0.46      0.46       187\n",
      "            baby_product       0.23      0.38      0.28        77\n",
      "                  beauty       0.44      0.55      0.49       301\n",
      "                    book       0.67      0.38      0.48       105\n",
      "                  camera       0.33      0.37      0.35        54\n",
      "  digital_ebook_purchase       0.75      0.90      0.82       173\n",
      "  digital_video_download       0.68      0.50      0.58        38\n",
      "               drugstore       0.48      0.37      0.41       289\n",
      "             electronics       0.32      0.34      0.33       153\n",
      "               furniture       0.28      0.66      0.39        62\n",
      "                 grocery       0.52      0.62      0.57       115\n",
      "                    home       0.44      0.30      0.36       440\n",
      "        home_improvement       0.37      0.42      0.39       183\n",
      "     industrial_supplies       0.20      0.02      0.03        64\n",
      "                 jewelry       0.42      0.55      0.48        89\n",
      "                 kitchen       0.43      0.53      0.47       254\n",
      "         lawn_and_garden       0.47      0.35      0.40       173\n",
      "                 luggage       0.19      0.33      0.24        36\n",
      "     musical_instruments       0.35      0.24      0.29        25\n",
      "          office_product       0.38      0.34      0.36       139\n",
      "                   other       0.46      0.14      0.22       324\n",
      "                      pc       0.37      0.45      0.41       155\n",
      "personal_care_appliances       0.00      0.00      0.00         2\n",
      "            pet_products       0.72      0.62      0.67       168\n",
      "                   shoes       0.51      0.63      0.56       129\n",
      "                  sports       0.40      0.22      0.28       217\n",
      "                     toy       0.42      0.43      0.42       241\n",
      "             video_games       0.44      0.40      0.42        30\n",
      "                   watch       0.28      0.85      0.42        13\n",
      "                wireless       0.53      0.64      0.58       374\n",
      "\n",
      "                accuracy                           0.46      5000\n",
      "               macro avg       0.42      0.44      0.41      5000\n",
      "            weighted avg       0.46      0.46      0.45      5000\n",
      "\n"
     ]
    },
    {
     "name": "stderr",
     "output_type": "stream",
     "text": [
      "/opt/anaconda3/lib/python3.9/site-packages/sklearn/metrics/_classification.py:1318: UndefinedMetricWarning: Precision and F-score are ill-defined and being set to 0.0 in labels with no predicted samples. Use `zero_division` parameter to control this behavior.\n",
      "  _warn_prf(average, modifier, msg_start, len(result))\n",
      "/opt/anaconda3/lib/python3.9/site-packages/sklearn/metrics/_classification.py:1318: UndefinedMetricWarning: Precision and F-score are ill-defined and being set to 0.0 in labels with no predicted samples. Use `zero_division` parameter to control this behavior.\n",
      "  _warn_prf(average, modifier, msg_start, len(result))\n",
      "/opt/anaconda3/lib/python3.9/site-packages/sklearn/metrics/_classification.py:1318: UndefinedMetricWarning: Precision and F-score are ill-defined and being set to 0.0 in labels with no predicted samples. Use `zero_division` parameter to control this behavior.\n",
      "  _warn_prf(average, modifier, msg_start, len(result))\n"
     ]
    }
   ],
   "source": [
    "report = classification_report(y_test, predictions)\n",
    "print(report)"
   ]
  },
  {
   "cell_type": "code",
   "execution_count": null,
   "id": "27ea5898",
   "metadata": {},
   "outputs": [],
   "source": []
  },
  {
   "cell_type": "code",
   "execution_count": null,
   "id": "91be772f",
   "metadata": {},
   "outputs": [],
   "source": []
  },
  {
   "cell_type": "code",
   "execution_count": 54,
   "id": "92bf73f0",
   "metadata": {},
   "outputs": [],
   "source": [
    "class TextPreprocessor_no_lemmatization():\n",
    "\n",
    "    def __init__(self):\n",
    "        \n",
    "        self.stop_words = set(stopwords.words('english'))\n",
    "\n",
    "\n",
    "    def preprocess_text(self, text):\n",
    "\n",
    "        text = text.lower() # Convert to lower case\n",
    "        text = re.sub(r'<.*?>', '', text) # Remove punctuations\n",
    "        text = re.sub(r'[^\\w\\s]', '', text) # Remove HTML tags\n",
    "        tokens = nltk.word_tokenize(text) # Tokenize the text\n",
    "        filtered_words = [token for token in tokens if token not in self.stop_words] # Remove stop words\n",
    "        return ' '.join(filtered_words)"
   ]
  },
  {
   "cell_type": "code",
   "execution_count": 55,
   "id": "5a6fb03d",
   "metadata": {},
   "outputs": [
    {
     "name": "stderr",
     "output_type": "stream",
     "text": [
      "/var/folders/j2/sk_tpq311dn0rsb2ksfpkzb00000gn/T/ipykernel_15424/3396159977.py:4: SettingWithCopyWarning: \n",
      "A value is trying to be set on a copy of a slice from a DataFrame.\n",
      "Try using .loc[row_indexer,col_indexer] = value instead\n",
      "\n",
      "See the caveats in the documentation: https://pandas.pydata.org/pandas-docs/stable/user_guide/indexing.html#returning-a-view-versus-a-copy\n",
      "  english_lang_train_reviews['preprocessed_text_no_lemmatization'] = english_lang_train_reviews['review_body'].apply(preprocessor.preprocess_text)\n",
      "/var/folders/j2/sk_tpq311dn0rsb2ksfpkzb00000gn/T/ipykernel_15424/3396159977.py:5: SettingWithCopyWarning: \n",
      "A value is trying to be set on a copy of a slice from a DataFrame.\n",
      "Try using .loc[row_indexer,col_indexer] = value instead\n",
      "\n",
      "See the caveats in the documentation: https://pandas.pydata.org/pandas-docs/stable/user_guide/indexing.html#returning-a-view-versus-a-copy\n",
      "  english_lang_test_reviews['preprocessed_text_no_lemmatization'] = english_lang_test_reviews['review_body'].apply(preprocessor.preprocess_text)\n"
     ]
    }
   ],
   "source": [
    "preprocessor = TextPreprocessor_no_lemmatization()\n",
    "\n",
    "# Apply the custom transformer to a specific column and create a new column\n",
    "english_lang_train_reviews['preprocessed_text_no_lemmatization'] = english_lang_train_reviews['review_body'].apply(preprocessor.preprocess_text)\n",
    "english_lang_test_reviews['preprocessed_text_no_lemmatization'] = english_lang_test_reviews['review_body'].apply(preprocessor.preprocess_text)"
   ]
  },
  {
   "cell_type": "markdown",
   "id": "150a2c73",
   "metadata": {},
   "source": [
    "### Count Vectorizer"
   ]
  },
  {
   "cell_type": "code",
   "execution_count": 56,
   "id": "0574b8f6",
   "metadata": {},
   "outputs": [
    {
     "name": "stdout",
     "output_type": "stream",
     "text": [
      "60554  ...  [('arrived', 4408), ('broken', 8155), ('manufacturer', 31991), ('defect', 14629), ('two', 55493), ('legs', 30079), ('base', 5727), ('completely', 11880), ('formed', 21365), ('way', 58228), ('insert', 27188), ('casters', 9664), ('unpackaged', 56243), ('entire', 18371), ('chair', 9973), ('hardware', 24500), ('noticing', 35797), ('ill', 26378), ('spend', 49739), ('twice', 55440), ('amount', 3531), ('time', 53899), ('boxing', 7715), ('whole', 58941), ('useless', 56777), ('thing', 53401), ('send', 46727), ('back', 5191), ('1star', 611), ('review', 44424), ('part', 38132), ('never', 35041), ('got', 23215), ('sit', 48048), ('go', 22952), ('far', 19689), ('include', 26705), ('picture', 39179), ('injection', 27069), ('molding', 33744), ('quality', 42020), ('assurance', 4647), ('process', 41062), ('missed', 33464), ('though', 53574), ('hesitant', 25156), ('buy', 8785), ('makes', 31821), ('wonder', 59394), ('arent', 4274), ('missing', 33474), ('structures', 51185), ('supports', 51776), ('dont', 16527), ('impede', 26517), ('assembly', 4594), ('cabinet', 8870), ('dot', 16605), ('detached', 15247), ('backing', 5224), ('received', 42838), ('first', 20428), ('order', 37004), ('product', 41101), ('broke', 8141), ('ordered', 37009), ('second', 46418), ('one', 36620), ('places', 39523), ('cant', 9242), ('blame', 6868), ('shipping', 47364), ('shrink', 47657), ('wrapped', 59775), ('boxed', 7701), ('piece', 39218), ('shit', 47404), ('doesnt', 16382), ('work', 59486), ('try', 55198), ('call', 9011), ('customer', 13833), ('support', 51763), ('wont', 59418), ('take', 52361), ('number', 35951), ('fucking', 21902), ('rip', 44725), ('went', 58677), ('day', 14260), ('fit', 20489), ('correct', 12753), ('couldnt', 12892), ('get', 22561), ('bubbles', 8347), ('better', 6446), ('without', 59306), ('poor', 40099), ('material', 32244), ('fuzzy', 22107)] \n",
      "\n",
      "(5000, 60554)\n"
     ]
    }
   ],
   "source": [
    "#Count-based feature extraction\n",
    "from sklearn.feature_extraction.text import CountVectorizer\n",
    "\n",
    "train_text = english_lang_train_reviews[\"preprocessed_text_no_lemmatization\"]\n",
    "test_text = english_lang_test_reviews[\"preprocessed_text_no_lemmatization\"]\n",
    "\n",
    "# set the n-gram range\n",
    "vectorizer = CountVectorizer(ngram_range = (1,1))\n",
    "\n",
    "# create training data representation\n",
    "train_data_cv = vectorizer.fit_transform(train_text)\n",
    "\n",
    "# observe the words in the created dictionary across the document\n",
    "pd.set_option('display.width', 1000)\n",
    "print(len(vectorizer.vocabulary_), \" ... \", list(vectorizer.vocabulary_.items())[0:100],\"\\n\")\n",
    "\n",
    "test_data_cv = vectorizer.transform(test_text)\n",
    "\n",
    "print(test_data_cv.shape)"
   ]
  },
  {
   "cell_type": "code",
   "execution_count": 57,
   "id": "464ee384",
   "metadata": {},
   "outputs": [],
   "source": [
    "X_train = train_data_cv\n",
    "X_test = test_data_cv\n",
    "y_train = english_lang_train_reviews['product_category']\n",
    "y_test = english_lang_test_reviews['product_category']"
   ]
  },
  {
   "cell_type": "code",
   "execution_count": 58,
   "id": "5b67ac32",
   "metadata": {},
   "outputs": [
    {
     "name": "stdout",
     "output_type": "stream",
     "text": [
      "Accuracy score:  0.4556\n",
      "Precision score:  0.45232881092702676\n",
      "Recall score:  0.4556\n",
      "F1 score:  0.445314529138051\n",
      "5000              apparel\\tapparel\n",
      "5001       other\\thome_improvement\n",
      "5002                 other\\tbeauty\n",
      "5003              jewelry\\tjewelry\n",
      "5004    industrial_supplies\\tother\n",
      "                   ...            \n",
      "9995          drugstore\\tdrugstore\n",
      "9996                beauty\\tbeauty\n",
      "9997                    home\\thome\n",
      "9998        automotive\\tautomotive\n",
      "9999                 apparel\\thome\n",
      "Name: product_category, Length: 5000, dtype: object\n"
     ]
    },
    {
     "name": "stderr",
     "output_type": "stream",
     "text": [
      "/opt/anaconda3/lib/python3.9/site-packages/sklearn/metrics/_classification.py:1318: UndefinedMetricWarning: Precision is ill-defined and being set to 0.0 in labels with no predicted samples. Use `zero_division` parameter to control this behavior.\n",
      "  _warn_prf(average, modifier, msg_start, len(result))\n"
     ]
    }
   ],
   "source": [
    "lr = LogisticRegression(penalty='l2', solver='lbfgs', max_iter=50000)\n",
    "lr.fit(X_train, y_train)\n",
    "predictions = lr.predict(X_test)\n",
    "\n",
    "print(\"Accuracy score: \", accuracy_score(y_test, predictions))\n",
    "print(\"Precision score: \", precision_score(y_test, predictions, average=\"weighted\"))\n",
    "print(\"Recall score: \", recall_score(y_test, predictions, average = \"weighted\"))\n",
    "print(\"F1 score: \", f1_score(y_test, predictions, average = \"weighted\"))\n",
    "\n",
    "print(y_test + '\\t' + predictions)"
   ]
  },
  {
   "cell_type": "code",
   "execution_count": null,
   "id": "99969a11",
   "metadata": {},
   "outputs": [],
   "source": []
  }
 ],
 "metadata": {
  "kernelspec": {
   "display_name": "Python 3 (ipykernel)",
   "language": "python",
   "name": "python3"
  },
  "language_info": {
   "codemirror_mode": {
    "name": "ipython",
    "version": 3
   },
   "file_extension": ".py",
   "mimetype": "text/x-python",
   "name": "python",
   "nbconvert_exporter": "python",
   "pygments_lexer": "ipython3",
   "version": "3.9.13"
  }
 },
 "nbformat": 4,
 "nbformat_minor": 5
}
