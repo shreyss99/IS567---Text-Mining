{
 "cells": [
  {
   "cell_type": "code",
   "execution_count": 1,
   "metadata": {},
   "outputs": [],
   "source": [
    "# Import libraries here that you need for different processing steps\n",
    "import nltk\n",
    "import csv\n",
    "import spacy\n",
    "import pandas as pd"
   ]
  },
  {
   "cell_type": "markdown",
   "metadata": {},
   "source": [
    "## Loading the dataset\n"
   ]
  },
  {
   "cell_type": "code",
   "execution_count": 17,
   "metadata": {},
   "outputs": [],
   "source": [
    "# Read the csv file into a dataframe\n",
    "\n",
    "data_file = \"./Dataset/covid.csv\"\n",
    "\n",
    "data_df = pd.read_csv(data_file)\n",
    "print (\"Training set: \", len(data_df))\n",
    "\n",
    "display(data_df)"
   ]
  },
  {
   "cell_type": "markdown",
   "metadata": {},
   "source": [
    "## Basic Data Cleaning and Transformations"
   ]
  },
  {
   "cell_type": "markdown",
   "metadata": {},
   "source": [
    "## Counting Sentiment Labels"
   ]
  },
  {
   "cell_type": "code",
   "execution_count": 18,
   "metadata": {},
   "outputs": [],
   "source": [
    "# Run the cell to see the distribution of the sentiment label in the dataset\n",
    "\n",
    "print(data_df.Sentiment.value_counts())"
   ]
  },
  {
   "cell_type": "markdown",
   "metadata": {},
   "source": [
    "## Dropping Columns\n",
    "Identify the column that you think is less relevant for text mining or other NLP tasks"
   ]
  },
  {
   "cell_type": "code",
   "execution_count": 19,
   "metadata": {},
   "outputs": [],
   "source": [
    "data_df.drop(['ScreenName','TweetAt'],axis=1,inplace=True)\n",
    "print(data_df.shape)\n",
    "data_df.head(10)"
   ]
  },
  {
   "cell_type": "markdown",
   "metadata": {},
   "source": [
    "## Handling NULL values\n",
    "Handle null values in a column by specifying the alternate value"
   ]
  },
  {
   "cell_type": "code",
   "execution_count": 20,
   "metadata": {},
   "outputs": [],
   "source": [
    "# run this cell to fill all null values in all columns of thedataframe with the desired value. \n",
    "# Trying doing it for a single column yourself.\n",
    "\n",
    "data_df = data_df.fillna(\"NA\")\n",
    "data_df.head()"
   ]
  },
  {
   "cell_type": "markdown",
   "metadata": {},
   "source": [
    "## Handling Exceptions\n",
    "Use try-except-pass"
   ]
  },
  {
   "cell_type": "code",
   "execution_count": 21,
   "metadata": {},
   "outputs": [],
   "source": [
    "# Incorporate the statements within a try-except block where you suspect there might be errors.\n",
    "# In the except block, handle the exception according to the requirement.\n",
    "\n",
    "try:\n",
    "    data_df=data_df.fillna(\"NA\")\n",
    "except:\n",
    "    pass"
   ]
  },
  {
   "cell_type": "markdown",
   "metadata": {},
   "source": [
    "## Lowercase conversion"
   ]
  },
  {
   "cell_type": "code",
   "execution_count": 22,
   "metadata": {},
   "outputs": [],
   "source": [
    "# Example showing lower case conversion of Tweet for an instance\n",
    "\n",
    "print(data_df.OriginalTweet.tolist()[100])\n",
    "print(\"\\n\")\n",
    "print(data_df.OriginalTweet.tolist()[100].lower())"
   ]
  },
  {
   "cell_type": "markdown",
   "metadata": {},
   "source": [
    "## Handling Special Characters or links\n",
    "\n",
    "This should be an interesting step. You can remove special characters or links or anything that does not have value for the sentiment"
   ]
  },
  {
   "cell_type": "code",
   "execution_count": 23,
   "metadata": {},
   "outputs": [],
   "source": [
    "# Example showing removal of special chars from the Tweet for an instance\n",
    "\n",
    "import re\n",
    "\n",
    "print(data_df.OriginalTweet.tolist()[100])\n",
    "print(\"\\n\")\n",
    "print(re.sub('[^A-Za-z0-9]+', ' ', data_df.OriginalTweet.tolist()[100]))"
   ]
  },
  {
   "cell_type": "markdown",
   "metadata": {},
   "source": [
    "## TEXT PRE-PROCESSING\n",
    "\n",
    "The following are the techniques to tranform the data into a cleaner data. Try out the what all techniques you would apply to your textual data to get the best quality dataset for a model.\n",
    "You can use either/all/addition to these steps mentioned below in any order that you find appropriate.\n",
    "\n",
    "- Tokenization\n",
    "- Sentence Segmentation\n",
    "\n",
    "- Stemming\n",
    "- Lemmatization\n",
    "- PartOfSpeech Tagging\n",
    "- Others\n"
   ]
  },
  {
   "cell_type": "code",
   "execution_count": 24,
   "metadata": {},
   "outputs": [],
   "source": [
    "# Run this cell to see an example of text pre-processing including a few of these techniques. \n",
    "# This image is a hint to the pre-processing steps but may or may not be the best. \n",
    "# It shows how the input text changes with each processing step\n",
    "# Find out different Tokenizers, Stemmers, Lemmatizers, etc and try to use the best one for your task! \n",
    "\n",
    "from PIL import Image\n",
    "pil_im = Image.open('./Dataset/Text_preprocessing_example.png')\n",
    "display(pil_im)"
   ]
  },
  {
   "cell_type": "markdown",
   "metadata": {},
   "source": [
    "## Tokenization using nltk library\n",
    " Links to a few word and sentence tokenizers- https://www.nltk.org/howto/tokenize.html"
   ]
  },
  {
   "cell_type": "code",
   "execution_count": 25,
   "metadata": {},
   "outputs": [],
   "source": [
    "# Example showing tokenization of the Tweets into words for an instance\n",
    "\n",
    "from nltk.tokenize import word_tokenize  \n",
    "\n",
    "print(data_df.OriginalTweet.tolist()[100])\n",
    "print(\"\\n\")\n",
    "print(word_tokenize(data_df.OriginalTweet.tolist()[100]))"
   ]
  },
  {
   "cell_type": "markdown",
   "metadata": {},
   "source": [
    "## Stemming\n",
    "Links to a few nltk Stemmers- https://www.nltk.org/howto/stem.html"
   ]
  },
  {
   "cell_type": "code",
   "execution_count": 26,
   "metadata": {},
   "outputs": [],
   "source": [
    "# Example showing stemming of words\n",
    "\n",
    "from nltk.stem import PorterStemmer \n",
    "ps = PorterStemmer() \n",
    "\n",
    "print(data_df.OriginalTweet.tolist()[51])\n",
    "print(\"\\n\")\n",
    "\n",
    "tweet = data_df.OriginalTweet.tolist()[51].split()\n",
    "\n",
    "for word in tweet:\n",
    "    print(word,\" \",ps.stem(word) ,\" \")"
   ]
  }
 ],
 "metadata": {
  "kernelspec": {
   "display_name": "Python 3",
   "language": "python",
   "name": "python3"
  },
  "language_info": {
   "codemirror_mode": {
    "name": "ipython",
    "version": 3
   },
   "file_extension": ".py",
   "mimetype": "text/x-python",
   "name": "python",
   "nbconvert_exporter": "python",
   "pygments_lexer": "ipython3",
   "version": "3.8.3"
  }
 },
 "nbformat": 4,
 "nbformat_minor": 5
}
